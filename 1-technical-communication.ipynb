{
 "cells": [
  {
   "cell_type": "markdown",
   "id": "f2eb14f3-f648-497a-b61e-682665ae5ac3",
   "metadata": {},
   "source": [
    "# Technical Communication"
   ]
  },
  {
   "cell_type": "markdown",
   "id": "8c56d639-6cc9-4fe3-8177-8d784ff9e435",
   "metadata": {},
   "source": [
    "### Introduction"
   ]
  },
  {
   "cell_type": "markdown",
   "id": "444e5948-ec2b-4e50-8bf2-b0caf325fa9b",
   "metadata": {},
   "source": [
    "One of the keys to being a strong engineer, is communicating both your thought process and how your code, and a system works.  This involves a lot of work, and is a difficult skill to acquire.  \n",
    "\n",
    "We'll be practicing it throughout this course, and it will pay dividends -- both on the job, and in interviews.  It will both allow you to communicate your understanding to others (a key for collaboration), and also clarify your thinking in your own mind.\n",
    "\n",
    "> \"If you can't explain it to a six year old, you don't understand it yourself.'\n",
    "> \n",
    "> Albert Einstein"
   ]
  },
  {
   "cell_type": "markdown",
   "id": "8db47fff-8f15-4402-8fe6-09dd8be85f08",
   "metadata": {},
   "source": [
    "### Start from the beginning"
   ]
  },
  {
   "cell_type": "markdown",
   "id": "690d9226-ad1c-4179-b1ec-e2173ccc0939",
   "metadata": {},
   "source": [
    "Let's start by seeing some code, and pay attention to how we describe it. "
   ]
  },
  {
   "cell_type": "code",
   "execution_count": 3,
   "id": "b1524a7a-63df-47ad-8743-f7afc48c84aa",
   "metadata": {},
   "outputs": [
    {
     "data": {
      "text/plain": [
       "{'title': 'X-Men', 'genre': 'Action', 'Budget': 10000}"
      ]
     },
     "execution_count": 3,
     "metadata": {},
     "output_type": "execute_result"
    }
   ],
   "source": [
    "{'title': 'X-Men','genre': 'Action', 'Budget': 10_000}"
   ]
  },
  {
   "cell_type": "markdown",
   "id": "a6430410-66c2-4fbe-bbfa-b984204c3b4d",
   "metadata": {},
   "source": [
    "Above is a **dictionary**.  It has **attributes** of title, genre and budget.   "
   ]
  },
  {
   "cell_type": "markdown",
   "id": "692e72d1-f4eb-4566-9c65-38cb76bb153b",
   "metadata": {},
   "source": [
    "> So e first identify the datatype, and from there, identify what it's composed of. "
   ]
  },
  {
   "cell_type": "markdown",
   "id": "e28d6a17-1aed-4ebc-b45b-b8eab6967bc2",
   "metadata": {},
   "source": [
    "Now try it for the list of movies."
   ]
  },
  {
   "cell_type": "code",
   "execution_count": null,
   "id": "9f7e57e1-ce67-4906-bcf7-b4e31a3a40f0",
   "metadata": {},
   "outputs": [],
   "source": [
    "['Xmen', 'Shawshank', 'Barbie']"
   ]
  },
  {
   "cell_type": "markdown",
   "id": "06f559b2-0de3-404f-9d00-3069c5c28926",
   "metadata": {},
   "source": [
    "Here, instead of attributes, we have a **list** with **elements** of `Xmen`, `Shawshank`, and `Barbie`."
   ]
  },
  {
   "cell_type": "markdown",
   "id": "7eebd741-d100-46db-806b-f08da488517e",
   "metadata": {},
   "source": [
    "Ok, so now let's get down some definitions."
   ]
  },
  {
   "cell_type": "markdown",
   "id": "7378fa6d-6ca8-4f05-a042-2e1db03b470c",
   "metadata": {},
   "source": [
    "* **List** - a *ordered* *collection* of data.\n",
    "* **Dictionary** - a *collection* of *key value pair* attributes."
   ]
  },
  {
   "cell_type": "markdown",
   "id": "e83871f8-73db-4ff7-b64e-a42594a65efb",
   "metadata": {},
   "source": [
    "> **Remember** that a list is used to represent different elements of similar type (`['Xmen', 'Shawshank', 'Barbie']`).  Whereas a dictionary is used to represent a single item (`{'title': 'X-Men','genre': 'Action', 'Budget': 10_000}`)."
   ]
  },
  {
   "cell_type": "markdown",
   "id": "348baf32-1721-454d-bbb2-b07abc81bd77",
   "metadata": {},
   "source": [
    "Finally, when we do something like the following:"
   ]
  },
  {
   "cell_type": "code",
   "execution_count": 4,
   "id": "67f3ed01-d09e-45d8-b00d-12c20d5b5322",
   "metadata": {},
   "outputs": [],
   "source": [
    "movies = ['Xmen', 'Shawshank', 'Barbie']"
   ]
  },
  {
   "cell_type": "markdown",
   "id": "f6d464f4-54ea-4aab-97e0-87c1cd2e42af",
   "metadata": {},
   "source": [
    "We say that we are **assigning** the list to the **variable** movies. "
   ]
  },
  {
   "cell_type": "markdown",
   "id": "0ab05449-6907-4d57-a85d-6735b880917a",
   "metadata": {},
   "source": [
    "So we just learned how to describe lists and dictionaries.  Lists are an ordered collection of data, and are composed of **elements**.  A dictionary is a collection with key value pairs, and we often describe their **attributes** (that is, their keys).\n",
    "\n",
    "We **assign** either a list or a dictionary to a **variable**."
   ]
  },
  {
   "cell_type": "markdown",
   "id": "6fdc8546-e667-4dc3-bbd7-ccc6ef3cf4d6",
   "metadata": {},
   "source": [
    "### Nested Collections and loops "
   ]
  },
  {
   "cell_type": "markdown",
   "id": "9f2aa333-5422-41e3-97a6-14b04baa10e3",
   "metadata": {},
   "source": [
    "Now below, we assign a list of dictionaries."
   ]
  },
  {
   "cell_type": "code",
   "execution_count": 6,
   "id": "14915ea2-7448-4ccc-a047-1166d9df4478",
   "metadata": {},
   "outputs": [],
   "source": [
    "movies = [\n",
    "     {\n",
    "        'title': 'X-Men',\n",
    "        'genre': 'Action',\n",
    "        'Budget': 10_000_000\n",
    "    }, \n",
    "    {\n",
    "        'title': 'X-Men',\n",
    "        'genre': 'Action',\n",
    "        'Budget': 10_000\n",
    "    } \n",
    "]"
   ]
  },
  {
   "cell_type": "markdown",
   "id": "b607c4d5-cabb-45d9-9e2a-3e125764fa25",
   "metadata": {},
   "source": [
    "> Remember, to identify the structure, look at the how the data starts:\n",
    "> * `[{` means the data is a list and each element is likely a dictionary.\n",
    "> *  `['` means the data is a list and each element is likely a string."
   ]
  },
  {
   "cell_type": "markdown",
   "id": "8aa74bff-21e6-438d-9f8a-1b4b61c8978a",
   "metadata": {},
   "source": [
    "Now let's **iterate** through the list of movies."
   ]
  },
  {
   "cell_type": "code",
   "execution_count": 9,
   "id": "e1beb0d9-afb2-44d0-a1e8-d88121955404",
   "metadata": {},
   "outputs": [],
   "source": [
    "titles = []\n",
    "\n",
    "for movie in movies:\n",
    "    titles.append(movie['title'])"
   ]
  },
  {
   "cell_type": "markdown",
   "id": "a29a727c-100e-44b5-9a4e-0ece18322789",
   "metadata": {},
   "source": [
    "Ok, so when working through a loop, it's important to identify the *datatype* of the block variable.  Above the block variable is `movie`, and it's datatype is a **dictionary**."
   ]
  },
  {
   "cell_type": "markdown",
   "id": "3de230b5-690b-438d-83e0-bafc3be79ab1",
   "metadata": {},
   "source": [
    "Now how would we describe the code above?"
   ]
  },
  {
   "cell_type": "code",
   "execution_count": 10,
   "id": "d24d3449-0c75-4a36-87a3-3763fc719c3c",
   "metadata": {},
   "outputs": [],
   "source": [
    "# first, we declare the variable titles \n",
    "# and assign it to an empty list\n",
    "titles = []\n",
    "\n",
    "# Then, we iterate through each dictionary...\n",
    "for movie in movies:\n",
    "    # selecting the title attribute, and appending it to the list.\n",
    "    titles.append(movie['title'])"
   ]
  },
  {
   "cell_type": "markdown",
   "id": "bb1a2760-3fc3-44b4-9696-7813748eaa76",
   "metadata": {},
   "source": [
    "> Notice that our lists are plural (`movies`, `titles`) and the block variable is **always** the **singular version** of the collection we are looping through (above `movie`)."
   ]
  },
  {
   "cell_type": "markdown",
   "id": "f3d4f94c-fb48-4b3e-be00-ecd0574eb9fb",
   "metadata": {},
   "source": [
    "Now your turn, try to write this out without looking at the above."
   ]
  },
  {
   "cell_type": "code",
   "execution_count": null,
   "id": "4ac2bea4-a641-4ae1-9308-e749c4ce06bc",
   "metadata": {},
   "outputs": [],
   "source": [
    "titles = []\n",
    "\n",
    "for movie in movies:\n",
    "    titles.append(movie['title'])"
   ]
  },
  {
   "cell_type": "markdown",
   "id": "be5b8d61-0a96-41fc-b127-fe796ec9ff0c",
   "metadata": {},
   "source": [
    "### Going forward"
   ]
  },
  {
   "cell_type": "markdown",
   "id": "114b20a1-302a-4e36-8fbf-4c4ad43318be",
   "metadata": {},
   "source": [
    "Ok, so it may feel awkward at first, but do spend time and focus in precisely describing your code.  You can do this after you complete a lab as a way to review the material, and especially practice this while you are pair programming.  It's ok to stumble a bit while you're doing this -- you're practicing. \n",
    "\n",
    "Remember, \n",
    "\n",
    "> \"Practice does not make perfect, only perfect practice makes perfect.\"\n",
    ">\n",
    "> Vince Lombardi\n",
    "\n",
    "Ok, enough with the quotes."
   ]
  },
  {
   "cell_type": "markdown",
   "id": "6dd97b69-c853-4cb8-96ab-193122bec634",
   "metadata": {},
   "source": [
    "### Summary"
   ]
  },
  {
   "cell_type": "markdown",
   "id": "478ed6a2-3877-47bf-bc07-4fc8be47f8ff",
   "metadata": {},
   "source": [
    "In this lesson we reviewed how to describe our code with datatypes and loops with precision."
   ]
  },
  {
   "cell_type": "markdown",
   "id": "07ce6340-65c5-4c60-a5df-446087cf19a6",
   "metadata": {},
   "source": [
    "Some of our key terms were:\n",
    "\n",
    "* list and dictionary\n",
    "* attributes and elements\n",
    "* *assigning* a datatype to equal variable\n",
    "\n",
    "Then with loops, remember that *iterate* through the list, and on each *iteration* we perform an action.\n",
    "\n",
    "When you see a line followed by an indent, this is a **block**, and so in the code below *movie* is our **block variable**."
   ]
  },
  {
   "cell_type": "code",
   "execution_count": 11,
   "id": "747a37a2-5ce2-4ad1-9a65-c4049e0cdc77",
   "metadata": {},
   "outputs": [],
   "source": [
    "# first, we declare the variable titles\n",
    "titles = []\n",
    "\n",
    "# Then, we iterate through each dictionary...\n",
    "for movie in movies:\n",
    "    # selecting the title attribute, and appending it to the list.\n",
    "    titles.append(movie['title'])"
   ]
  }
 ],
 "metadata": {
  "kernelspec": {
   "display_name": "Python 3 (ipykernel)",
   "language": "python",
   "name": "python3"
  },
  "language_info": {
   "codemirror_mode": {
    "name": "ipython",
    "version": 3
   },
   "file_extension": ".py",
   "mimetype": "text/x-python",
   "name": "python",
   "nbconvert_exporter": "python",
   "pygments_lexer": "ipython3",
   "version": "3.11.5"
  }
 },
 "nbformat": 4,
 "nbformat_minor": 5
}
