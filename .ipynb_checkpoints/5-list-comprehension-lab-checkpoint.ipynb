{
 "cells": [
  {
   "cell_type": "markdown",
   "id": "aaa09aec-7579-4e33-b362-5b0ca008b5a4",
   "metadata": {},
   "source": [
    "# List Comprehension Lab"
   ]
  },
  {
   "cell_type": "markdown",
   "id": "0a915a6e-a272-470b-8ca8-4a4ab25e09f0",
   "metadata": {},
   "source": [
    "### Introduction"
   ]
  },
  {
   "cell_type": "markdown",
   "id": "9dd27dd3-c3aa-460e-bbc4-0dd4adf66e06",
   "metadata": {},
   "source": [
    "In this lesson, we'll work with [this dataset](https://www.kaggle.com/datasets/rkiattisak/student-performance-in-mathematics/) on student performance in math, reading, and writing at a US high school. \n",
    "\n",
    "Let's get started."
   ]
  },
  {
   "cell_type": "markdown",
   "id": "ee27d3da-3344-4562-a5c5-a9d6fb54c140",
   "metadata": {},
   "source": [
    "### Loading our Data"
   ]
  },
  {
   "cell_type": "code",
   "execution_count": 7,
   "id": "3ecdc061-ae95-443d-8c39-00df93c8c44b",
   "metadata": {},
   "outputs": [
    {
     "data": {
      "text/plain": [
       "[{'gender': 'female',\n",
       "  'race/ethnicity': 'group D',\n",
       "  'parental level of education': 'some college',\n",
       "  'lunch': 'standard',\n",
       "  'test preparation course': 'completed',\n",
       "  'math score': 59,\n",
       "  'reading score': 70,\n",
       "  'writing score': 78}]"
      ]
     },
     "execution_count": 7,
     "metadata": {},
     "output_type": "execute_result"
    }
   ],
   "source": [
    "import pandas as pd\n",
    "\n",
    "students_df = pd.read_csv('./exams.csv')\n",
    "students = students_df.to_dict('records')\n",
    "\n",
    "students[:1]"
   ]
  },
  {
   "cell_type": "markdown",
   "id": "7815b0a1-c382-42d2-a140-60b30df90bf0",
   "metadata": {},
   "source": [
    "Begin by selecting the first student, and displaying the keys."
   ]
  },
  {
   "cell_type": "code",
   "execution_count": 8,
   "id": "9955e316-53d3-4b7d-8daa-76d959d8e3c4",
   "metadata": {},
   "outputs": [
    {
     "data": {
      "text/plain": [
       "dict_keys(['gender', 'race/ethnicity', 'parental level of education', 'lunch', 'test preparation course', 'math score', 'reading score', 'writing score'])"
      ]
     },
     "execution_count": 8,
     "metadata": {},
     "output_type": "execute_result"
    }
   ],
   "source": [
    "students[0].keys()"
   ]
  },
  {
   "cell_type": "markdown",
   "id": "b3a3437b-bb9a-4b74-b662-040309f00a7a",
   "metadata": {},
   "source": [
    "Ok, so we identify the grain of the data, by seeing that this indicates information *per student*."
   ]
  },
  {
   "cell_type": "markdown",
   "id": "0d520ea6-17c3-46fe-b289-bd1549cf3b4d",
   "metadata": {},
   "source": [
    "### Selecting attributes"
   ]
  },
  {
   "cell_type": "markdown",
   "id": "f2c584da-8c18-462d-9cee-f677df76de6e",
   "metadata": {},
   "source": [
    "Ok, so now let's use list comprehension to explore certain attributes of our data.  For example, let's create a list of math scores."
   ]
  },
  {
   "cell_type": "code",
   "execution_count": 9,
   "id": "2c2abe81-37df-428b-a76a-39673cfc047e",
   "metadata": {},
   "outputs": [
    {
     "data": {
      "text/plain": [
       "[59, 96, 57]"
      ]
     },
     "execution_count": 9,
     "metadata": {},
     "output_type": "execute_result"
    }
   ],
   "source": [
    "math_scores = [student['math score'] for student in students]\n",
    "\n",
    "math_scores[:3]"
   ]
  },
  {
   "cell_type": "markdown",
   "id": "3ca9d5cb-5da3-4467-9b6d-9eb9d96e2d0d",
   "metadata": {},
   "source": [
    "And then find the maximum and minimum math score of our students."
   ]
  },
  {
   "cell_type": "code",
   "execution_count": 10,
   "id": "8326a01d-404b-4633-8c27-345e0a9d1a01",
   "metadata": {},
   "outputs": [
    {
     "data": {
      "text/plain": [
       "15"
      ]
     },
     "execution_count": 10,
     "metadata": {},
     "output_type": "execute_result"
    }
   ],
   "source": [
    "min_score = min(math_scores)\n",
    "min_score\n",
    "\n",
    "# 15"
   ]
  },
  {
   "cell_type": "markdown",
   "id": "5ff102cd-6722-47c6-9cb6-a770b05d74de",
   "metadata": {},
   "source": [
    "> Well, maybe he had a bad day."
   ]
  },
  {
   "cell_type": "code",
   "execution_count": 12,
   "id": "7d4c3460-9fe9-445d-9020-eacf2bcbcb21",
   "metadata": {},
   "outputs": [
    {
     "data": {
      "text/plain": [
       "100"
      ]
     },
     "execution_count": 12,
     "metadata": {},
     "output_type": "execute_result"
    }
   ],
   "source": [
    "max_score = max(math_scores)\n",
    "max_score\n",
    "\n",
    "# 100"
   ]
  },
  {
   "cell_type": "markdown",
   "id": "590189fe-ce0e-428c-84ce-5ab919b94e66",
   "metadata": {},
   "source": [
    "> That's the spirit."
   ]
  },
  {
   "cell_type": "markdown",
   "id": "b0450654-ae38-4fce-9021-030c7b9f38d1",
   "metadata": {},
   "source": [
    "Ok, let's explore some additional data.  Use list comprehension to select each parent's education."
   ]
  },
  {
   "cell_type": "code",
   "execution_count": 13,
   "id": "8168723b-0dc7-4f99-9156-8a234fc0423d",
   "metadata": {},
   "outputs": [
    {
     "data": {
      "text/plain": [
       "['some college', \"associate's degree\", 'some college']"
      ]
     },
     "execution_count": 13,
     "metadata": {},
     "output_type": "execute_result"
    }
   ],
   "source": [
    "parent_educations = [student['parental level of education'] for student in students]\n",
    "parent_educations[:3]"
   ]
  },
  {
   "cell_type": "markdown",
   "id": "9f1c69b1-7524-46d5-98b7-1b8ea31ea09f",
   "metadata": {},
   "source": [
    "And then let's see all of the different kinds of education listed."
   ]
  },
  {
   "cell_type": "code",
   "execution_count": 16,
   "id": "512ed390-ff50-469e-a4f0-1a4201038175",
   "metadata": {},
   "outputs": [
    {
     "name": "stdout",
     "output_type": "stream",
     "text": [
      "{'high school', 'some high school', \"master's degree\", \"bachelor's degree\", \"associate's degree\", 'some college'}\n"
     ]
    }
   ],
   "source": [
    "print(set(parent_educations))\n",
    "\n",
    "# {'high school', 'some high school', \"master's degree\", \"bachelor's degree\",\n",
    "# \"associate's degree\", 'some college'}"
   ]
  },
  {
   "cell_type": "markdown",
   "id": "47dd1579-f8c2-403c-a3bf-e9917faf8ee2",
   "metadata": {},
   "source": [
    "### Filtering with list comprehension"
   ]
  },
  {
   "cell_type": "markdown",
   "id": "8d9c3151-1442-44a0-9428-8557acf6dbbc",
   "metadata": {},
   "source": [
    "Ok, now let's get a sense of how strongly parental education is associated with student test scores.  \n",
    "\n",
    "Use list comprehension to select the students whose parents had `high school` or `some high school`."
   ]
  },
  {
   "cell_type": "code",
   "execution_count": 17,
   "id": "f7fbdccc-7cd8-4fcd-8a32-4c52b85c4993",
   "metadata": {},
   "outputs": [],
   "source": [
    "parental_hs_ed_students = [student for student in students if student['parental level of education'] == 'high school' or student['parental level of education'] == 'some high school']"
   ]
  },
  {
   "cell_type": "code",
   "execution_count": 23,
   "id": "53b7577e-5092-4dc1-b8c1-eaaabb20cac3",
   "metadata": {},
   "outputs": [
    {
     "name": "stdout",
     "output_type": "stream",
     "text": [
      "[{'gender': 'male', 'race/ethnicity': 'group C', 'parental level of education': 'some high school', 'lunch': 'standard', 'test preparation course': 'none', 'math score': 68, 'reading score': 57, 'writing score': 54}]\n"
     ]
    }
   ],
   "source": [
    "print(parental_hs_ed_students[:1])\n",
    "\n",
    "# [{'gender': 'male', 'race/ethnicity': 'group C',\n",
    "# 'parental level of education': 'some high school',\n",
    "# 'lunch': 'standard', 'test preparation course': 'none',\n",
    "# 'math score': 68, 'reading score': 57, 'writing score': 54}]"
   ]
  },
  {
   "cell_type": "code",
   "execution_count": 29,
   "id": "6e6e9c92-ff4d-4a6d-a54b-67693ab1611f",
   "metadata": {},
   "outputs": [
    {
     "data": {
      "text/plain": [
       "392"
      ]
     },
     "execution_count": 29,
     "metadata": {},
     "output_type": "execute_result"
    }
   ],
   "source": [
    "len(parental_hs_ed_students)"
   ]
  },
  {
   "cell_type": "markdown",
   "id": "f7776bc4-bb90-48f1-bf2c-7668830be5f1",
   "metadata": {},
   "source": [
    "And then select those student whose parents either have a bachelors, associates, or master's degree."
   ]
  },
  {
   "cell_type": "code",
   "execution_count": 24,
   "id": "c0c9700d-e31e-4e10-9c0f-b7a063f0287e",
   "metadata": {},
   "outputs": [],
   "source": [
    "parental_col_grad_students = [student for student in students if student['parental level of education'] == 'associates' \\\n",
    "                              or student['parental level of education'] == 'bachelors' or student['parental level of education'] == \"master's degree\"]"
   ]
  },
  {
   "cell_type": "code",
   "execution_count": 27,
   "id": "391f6e09-703d-4814-9b08-c7bfbf1af396",
   "metadata": {},
   "outputs": [
    {
     "name": "stdout",
     "output_type": "stream",
     "text": [
      "[{'gender': 'male', 'race/ethnicity': 'group B', 'parental level of education': \"master's degree\", 'lunch': 'standard', 'test preparation course': 'none', 'math score': 53, 'reading score': 50, 'writing score': 49}]\n"
     ]
    }
   ],
   "source": [
    "parental_col_grad_students[:1]\n",
    "\n",
    "# [{'gender': 'male', 'race/ethnicity': 'group B',\n",
    "#   'parental level of education': \"master's degree\",\n",
    "#   'lunch': 'standard', 'test preparation course': 'none', 'math score': 53, 'reading score': 50, 'writing score': 49}]\n"
   ]
  },
  {
   "cell_type": "code",
   "execution_count": 28,
   "id": "019edf09-4bf4-4e47-bf64-db502c3e02c0",
   "metadata": {},
   "outputs": [
    {
     "data": {
      "text/plain": [
       "75"
      ]
     },
     "execution_count": 28,
     "metadata": {},
     "output_type": "execute_result"
    }
   ],
   "source": [
    "len(parental_col_grad_students)\n",
    "\n",
    "# 75"
   ]
  },
  {
   "cell_type": "markdown",
   "id": "f1655ac2-7f96-446f-8972-d410b715a9ac",
   "metadata": {},
   "source": [
    "Ok, so right off of the bat we can see that only 16 percent of students' parents had a college education."
   ]
  },
  {
   "cell_type": "code",
   "execution_count": 32,
   "id": "23fbaa2f-8083-4eed-93cf-79aaf04b22a8",
   "metadata": {},
   "outputs": [
    {
     "data": {
      "text/plain": [
       "0.16"
      ]
     },
     "execution_count": 32,
     "metadata": {},
     "output_type": "execute_result"
    }
   ],
   "source": [
    "round(75/(392 + 75), 2)"
   ]
  },
  {
   "cell_type": "markdown",
   "id": "c6bb167f-b4db-41b6-b7ab-439715a74448",
   "metadata": {},
   "source": [
    "Ok, so now we've selected two groups of students."
   ]
  },
  {
   "cell_type": "code",
   "execution_count": 33,
   "id": "d059960e-2afa-4e7f-a0d3-2d527c7dec6c",
   "metadata": {},
   "outputs": [],
   "source": [
    "# parental_col_grad_students\n",
    "\n",
    "# parental_hs_ed_students"
   ]
  },
  {
   "cell_type": "markdown",
   "id": "f196f6e7-d12d-432f-a36e-f3c6518d1ad3",
   "metadata": {},
   "source": [
    "Now select the math scores of the our college grad students."
   ]
  },
  {
   "cell_type": "code",
   "execution_count": 37,
   "id": "d4d071c3-6d6d-4ee1-9d2d-06cb2c2d6c2d",
   "metadata": {},
   "outputs": [
    {
     "data": {
      "text/plain": [
       "[53, 55, 56]"
      ]
     },
     "execution_count": 37,
     "metadata": {},
     "output_type": "execute_result"
    }
   ],
   "source": [
    "par_col_grad_math_scores = [student['math score'] for student in parental_col_grad_students]\n",
    "par_col_grad_math_scores[:3]"
   ]
  },
  {
   "cell_type": "markdown",
   "id": "1060cb33-5e46-406d-b078-40af4e02afec",
   "metadata": {},
   "source": [
    "And from there we can find the average score by adding up all of the scores and dividing by their length."
   ]
  },
  {
   "cell_type": "code",
   "execution_count": 38,
   "id": "40a2eff2-a9ad-41f9-84b4-2174f7e38617",
   "metadata": {},
   "outputs": [
    {
     "data": {
      "text/plain": [
       "71.02666666666667"
      ]
     },
     "execution_count": 38,
     "metadata": {},
     "output_type": "execute_result"
    }
   ],
   "source": [
    "sum(par_col_grad_math_scores)/len(par_col_grad_math_scores)"
   ]
  },
  {
   "cell_type": "markdown",
   "id": "5c5553a0-09fa-45ea-ba39-1c32eeb90988",
   "metadata": {},
   "source": [
    "Ok, so an average score of 71."
   ]
  },
  {
   "cell_type": "markdown",
   "id": "77cbe190-2cf0-4123-a415-74b218135b60",
   "metadata": {},
   "source": [
    "Now, it's your turn.  Select the math scores from the `parental_hs_ed_students`, and then find the average score."
   ]
  },
  {
   "cell_type": "code",
   "execution_count": 39,
   "id": "15314b6f-9e33-4b50-b6a3-5be605dd70ab",
   "metadata": {},
   "outputs": [
    {
     "data": {
      "text/plain": [
       "[68, 46, 80]"
      ]
     },
     "execution_count": 39,
     "metadata": {},
     "output_type": "execute_result"
    }
   ],
   "source": [
    "parental_hs_ed_math_scores = [student['math score'] for student in parental_hs_ed_students]\n",
    "parental_hs_ed_math_scores[:3]"
   ]
  },
  {
   "cell_type": "code",
   "execution_count": 40,
   "id": "c21e3ca5-211a-4856-b300-67cbb693e06e",
   "metadata": {},
   "outputs": [
    {
     "data": {
      "text/plain": [
       "64.84693877551021"
      ]
     },
     "execution_count": 40,
     "metadata": {},
     "output_type": "execute_result"
    }
   ],
   "source": [
    "sum(parental_hs_ed_math_scores)/len(parental_hs_ed_math_scores)\n",
    "\n",
    "# 64.84693877551021"
   ]
  },
  {
   "cell_type": "markdown",
   "id": "dd6b7074-96ac-4580-a17f-54c51c01fd8d",
   "metadata": {},
   "source": [
    "Ok, so we see a decrease of around 7 points on the math scores. "
   ]
  },
  {
   "cell_type": "markdown",
   "id": "40a93f16-7ee5-455f-819f-a600fa97e878",
   "metadata": {},
   "source": [
    "### Summary"
   ]
  },
  {
   "cell_type": "markdown",
   "id": "2a58fad0-8e6a-4930-9892-5f95bffabf4b",
   "metadata": {},
   "source": [
    "In this lesson, we practiced working with list comprehensions both with selecting data, and filtering our data with if statements. "
   ]
  }
 ],
 "metadata": {
  "kernelspec": {
   "display_name": "Python 3 (ipykernel)",
   "language": "python",
   "name": "python3"
  },
  "language_info": {
   "codemirror_mode": {
    "name": "ipython",
    "version": 3
   },
   "file_extension": ".py",
   "mimetype": "text/x-python",
   "name": "python",
   "nbconvert_exporter": "python",
   "pygments_lexer": "ipython3",
   "version": "3.11.5"
  }
 },
 "nbformat": 4,
 "nbformat_minor": 5
}
