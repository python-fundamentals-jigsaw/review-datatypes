{
 "cells": [
  {
   "cell_type": "markdown",
   "id": "98b40c1f-566a-4b03-8b65-ea3687f8bf9a",
   "metadata": {},
   "source": [
    "# Free Form Data Exploration"
   ]
  },
  {
   "cell_type": "markdown",
   "id": "794574f6-ef2a-40df-80fa-61d8a8515bb4",
   "metadata": {},
   "source": [
    "### Introduction"
   ]
  },
  {
   "cell_type": "markdown",
   "id": "1c90dd20-51e2-4e2b-832a-34da43147200",
   "metadata": {},
   "source": [
    "Here, we'll provide you a dataset, but will take off some of the guardrails in how you explore and work through the data.  Still, the one rule is that you must only use Python to explore the data, and if you would like to use a graphing library like plotly, that is also ok."
   ]
  },
  {
   "cell_type": "markdown",
   "id": "c3d51f07-56fa-478e-8350-4f428f8ad1b9",
   "metadata": {},
   "source": [
    "### Loading our data"
   ]
  },
  {
   "cell_type": "markdown",
   "id": "81c3fd98-b37c-4cfc-bc17-cea50f768243",
   "metadata": {},
   "source": [
    "For this dataset, we can use [online retail dataset ](https://www.kaggle.com/datasets/ulrikthygepedersen/online-retail-dataset) made available here."
   ]
  },
  {
   "cell_type": "code",
   "execution_count": 5,
   "id": "eaf48b3c-7c42-4168-a2ca-5fe01dfd29ba",
   "metadata": {},
   "outputs": [],
   "source": [
    "import pandas as pd\n",
    "url = \"https://raw.githubusercontent.com/python-fundamentals-jigsaw/review-datatypes/main/online_retail.csv\"\n",
    "# df = pd.read_csv(url)"
   ]
  },
  {
   "cell_type": "code",
   "execution_count": 2,
   "id": "c364e69d-26a1-43b4-b44f-b8a05cad0f1a",
   "metadata": {},
   "outputs": [],
   "source": [
    "records = df.to_dict('records')"
   ]
  },
  {
   "cell_type": "code",
   "execution_count": 3,
   "id": "c4c3c142-d6b2-4b5d-bdd4-ed9e30d4f2b2",
   "metadata": {},
   "outputs": [
    {
     "data": {
      "text/plain": [
       "[{'InvoiceNo': '536365',\n",
       "  'StockCode': '85123A',\n",
       "  'Description': 'WHITE HANGING HEART T-LIGHT HOLDER',\n",
       "  'Quantity': 6,\n",
       "  'InvoiceDate': '2010-12-01 08:26:00',\n",
       "  'UnitPrice': 2.55,\n",
       "  'CustomerID': 17850.0,\n",
       "  'Country': 'United Kingdom'},\n",
       " {'InvoiceNo': '536365',\n",
       "  'StockCode': '71053',\n",
       "  'Description': 'WHITE METAL LANTERN',\n",
       "  'Quantity': 6,\n",
       "  'InvoiceDate': '2010-12-01 08:26:00',\n",
       "  'UnitPrice': 3.39,\n",
       "  'CustomerID': 17850.0,\n",
       "  'Country': 'United Kingdom'}]"
      ]
     },
     "execution_count": 3,
     "metadata": {},
     "output_type": "execute_result"
    }
   ],
   "source": [
    "records[:2]"
   ]
  },
  {
   "cell_type": "markdown",
   "id": "baf77e37-49c0-4304-a4ba-78e5d77357f2",
   "metadata": {},
   "source": [
    "### The task"
   ]
  },
  {
   "cell_type": "markdown",
   "id": "968f6209-9fa5-4a72-a37a-3688936b83ab",
   "metadata": {},
   "source": [
    "1. Identify the grain of the data\n",
    "    * What does each record represent\n",
    "2. Check the representativeness of the data\n",
    "    * What range of dates, countries, does the data represent?\n",
    "    * Is the data complete?\n",
    "        * Eg. Are there sales for every month, every week, etc \n",
    "        * And is the time period the same for every country)?\n",
    "3. What insights can we gain from the data?\n",
    "    * What is most and least popular?\n",
    "    * Are there any surprises in the data?"
   ]
  },
  {
   "cell_type": "code",
   "execution_count": null,
   "id": "d6034c80-e46d-4d27-8196-4a8e78122b62",
   "metadata": {},
   "outputs": [],
   "source": []
  }
 ],
 "metadata": {
  "kernelspec": {
   "display_name": "Python 3 (ipykernel)",
   "language": "python",
   "name": "python3"
  },
  "language_info": {
   "codemirror_mode": {
    "name": "ipython",
    "version": 3
   },
   "file_extension": ".py",
   "mimetype": "text/x-python",
   "name": "python",
   "nbconvert_exporter": "python",
   "pygments_lexer": "ipython3",
   "version": "3.9.12"
  }
 },
 "nbformat": 4,
 "nbformat_minor": 5
}
