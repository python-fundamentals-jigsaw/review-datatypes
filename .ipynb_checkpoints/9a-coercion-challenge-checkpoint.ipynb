{
 "cells": [
  {
   "cell_type": "markdown",
   "id": "f7d4b13e-8ecf-4300-beb6-17c853efbeb4",
   "metadata": {},
   "source": [
    "### Challenge Answer"
   ]
  },
  {
   "cell_type": "markdown",
   "id": "ed2b76e9-080b-46ee-a639-5055b8e5e630",
   "metadata": {},
   "source": [
    "Now from the list of dictionaries of above, to a list of strings, where each string is in the format of `name is _ and hometown is _`."
   ]
  },
  {
   "cell_type": "code",
   "execution_count": 1,
   "id": "8d274233-5b50-4550-8424-9d40edaa956a",
   "metadata": {},
   "outputs": [],
   "source": [
    "customers = [{'name': 'sam', 'hometown': 'nyc'},\n",
    " {'name': 'lisa', 'hometown': 'chicago'},\n",
    " {'name': 'arnold', 'hometown': 'la'}]"
   ]
  },
  {
   "cell_type": "code",
   "execution_count": 2,
   "id": "c7be338d-aa71-4509-ab1f-c7a2ec0ef72e",
   "metadata": {},
   "outputs": [
    {
     "data": {
      "text/plain": [
       "['name is sam and hometown is nyc',\n",
       " 'name is lisa and hometown is chicago',\n",
       " 'name is arnold and hometown is la']"
      ]
     },
     "execution_count": 2,
     "metadata": {},
     "output_type": "execute_result"
    }
   ],
   "source": [
    "comments = []\n",
    "for customer in customers:\n",
    "    customer_comments = []\n",
    "    for k, v in customer.items():\n",
    "        customer_comments.append(f'{k} is {v}')\n",
    "    comments.append(' and '.join(customer_comments))\n",
    "comments"
   ]
  },
  {
   "cell_type": "code",
   "execution_count": null,
   "id": "44c6c3b9-63d1-48e2-9d46-8012d05e13ef",
   "metadata": {},
   "outputs": [],
   "source": []
  }
 ],
 "metadata": {
  "kernelspec": {
   "display_name": "Python 3 (ipykernel)",
   "language": "python",
   "name": "python3"
  },
  "language_info": {
   "codemirror_mode": {
    "name": "ipython",
    "version": 3
   },
   "file_extension": ".py",
   "mimetype": "text/x-python",
   "name": "python",
   "nbconvert_exporter": "python",
   "pygments_lexer": "ipython3",
   "version": "3.9.12"
  }
 },
 "nbformat": 4,
 "nbformat_minor": 5
}
