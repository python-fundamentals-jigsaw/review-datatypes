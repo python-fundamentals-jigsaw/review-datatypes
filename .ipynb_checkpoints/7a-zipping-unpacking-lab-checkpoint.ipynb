{
 "cells": [
  {
   "cell_type": "markdown",
   "id": "01cb9d97-2495-41c6-94e6-e967f2001084",
   "metadata": {},
   "source": [
    "# Zipping and Unpacking Lab"
   ]
  },
  {
   "cell_type": "markdown",
   "id": "f7e00e20-c5a7-44f6-ac81-275880057fe8",
   "metadata": {},
   "source": [
    "### Introduction"
   ]
  },
  {
   "cell_type": "markdown",
   "id": "713da30a-b445-4224-b950-9b2d9f20e8c4",
   "metadata": {},
   "source": [
    "In this lesson, we'll move practice with zipping and unpacking our data by working with some data describing the density of cities.  \n",
    "\n",
    "Let's get started."
   ]
  },
  {
   "cell_type": "markdown",
   "id": "9503b81b-25e7-48a7-9ba5-8342de9b0ecb",
   "metadata": {},
   "source": [
    "### Loading our data"
   ]
  },
  {
   "cell_type": "markdown",
   "id": "f4c6ed8f-ff0e-43cd-b77d-34bcd7914be5",
   "metadata": {},
   "source": [
    "We can begin by loading our data."
   ]
  },
  {
   "cell_type": "code",
   "execution_count": 1,
   "id": "cbf131e6-dc88-4bb9-974e-58ee50dcbca0",
   "metadata": {},
   "outputs": [],
   "source": [
    "import pandas as pd\n",
    "url = \"https://raw.githubusercontent.com/python-fundamentals-jigsaw/review-datatypes/main/cities_dens.csv\"\n",
    "cities_df = pd.read_csv(url, index_col = 0)\n",
    "cities = cities_df.to_dict('records')"
   ]
  },
  {
   "cell_type": "code",
   "execution_count": 2,
   "id": "e9e81948-23bd-49cd-8a76-5559482fa4bc",
   "metadata": {},
   "outputs": [
    {
     "data": {
      "text/plain": [
       "[{'city': 'Malé',\n",
       "  'population': '153,904[1]',\n",
       "  'area_mi': '1.956[1]',\n",
       "  'density_mi': 203846.0,\n",
       "  'country': 'Maldives'},\n",
       " {'city': 'Manila',\n",
       "  'population': '1,660,714[2]',\n",
       "  'area_mi': '38.55[3]',\n",
       "  'density_mi': 111576.0,\n",
       "  'country': 'Philippines'}]"
      ]
     },
     "execution_count": 2,
     "metadata": {},
     "output_type": "execute_result"
    }
   ],
   "source": [
    "cities[:2]"
   ]
  },
  {
   "cell_type": "markdown",
   "id": "23e48e76-99e7-4171-9e54-87e256f6bbc4",
   "metadata": {},
   "source": [
    "And, identifying the grain of the data, we can see that each dictionary represents a different city."
   ]
  },
  {
   "cell_type": "markdown",
   "id": "dcec15a9-5f77-4abb-a84c-66170042fc6a",
   "metadata": {},
   "source": [
    "### Selecting our data"
   ]
  },
  {
   "cell_type": "markdown",
   "id": "6996678d-6d31-4e83-b6fd-78cc2356a3d9",
   "metadata": {},
   "source": [
    "Now let's say that we only need the attributes of the city, and the amount of people per mile (indicated by `density_mi`).  \n",
    "\n",
    "First, select the city names."
   ]
  },
  {
   "cell_type": "code",
   "execution_count": 14,
   "id": "9192b536-7d29-4467-9f6d-5ef592101bd6",
   "metadata": {},
   "outputs": [
    {
     "data": {
      "text/plain": [
       "['Malé', 'Manila', 'Bogor']"
      ]
     },
     "execution_count": 14,
     "metadata": {},
     "output_type": "execute_result"
    }
   ],
   "source": [
    "city_names = [city['city'] for city in cities]\n",
    "city_names[:3]"
   ]
  },
  {
   "cell_type": "markdown",
   "id": "fcbf28d8-86a7-4e35-b2be-eddcf48d8cb4",
   "metadata": {},
   "source": [
    "And then let's select the density per city."
   ]
  },
  {
   "cell_type": "code",
   "execution_count": 17,
   "id": "84f2da1f-2594-49e2-8f90-5e20520cb828",
   "metadata": {},
   "outputs": [
    {
     "data": {
      "text/plain": [
       "[203846.0, 111576.0, 104037.0]"
      ]
     },
     "execution_count": 17,
     "metadata": {},
     "output_type": "execute_result"
    }
   ],
   "source": [
    "densities = [city['density_mi'] for city in cities]\n",
    "densities[:3]"
   ]
  },
  {
   "cell_type": "markdown",
   "id": "2ae1d042-5be3-461e-900e-6122563dcd44",
   "metadata": {},
   "source": [
    "Next, create a list of tuples, where each tuple's first element is the city name and the second element is the density."
   ]
  },
  {
   "cell_type": "code",
   "execution_count": 19,
   "id": "8b95fe51-640d-4c15-ac3b-e7576a9edbe6",
   "metadata": {},
   "outputs": [
    {
     "data": {
      "text/plain": [
       "[('Malé', 203846.0), ('Manila', 111576.0), ('Bogor', 104037.0)]"
      ]
     },
     "execution_count": 19,
     "metadata": {},
     "output_type": "execute_result"
    }
   ],
   "source": [
    "city_densities = list(zip(city_names, densities))\n",
    "\n",
    "city_densities[:3]\n",
    "\n",
    "# [('Malé', 203846.0), ('Manila', 111576.0), ('Bogor', 104037.0)]"
   ]
  },
  {
   "cell_type": "markdown",
   "id": "56a7c71e-e121-4643-9616-805fbb0c86a3",
   "metadata": {},
   "source": [
    "Ok, and from here, we'll print our the name of and population for the first three tuples."
   ]
  },
  {
   "cell_type": "code",
   "execution_count": 24,
   "id": "54ea1525-7a1d-4d7d-a210-ef8664916b34",
   "metadata": {},
   "outputs": [
    {
     "name": "stdout",
     "output_type": "stream",
     "text": [
      "City: Malé Density 203846.0\n",
      "City: Manila Density 111576.0\n",
      "City: Bogor Density 104037.0\n"
     ]
    }
   ],
   "source": [
    "three_city_densities = city_densities[:3]\n",
    "\n",
    "for city, density in three_city_densities:\n",
    "    print('City:', city, 'Density', density)"
   ]
  },
  {
   "cell_type": "markdown",
   "id": "d4afd88b-72c9-4247-8f0a-14f28cccea79",
   "metadata": {},
   "source": [
    "Even better would be to create a list of dictionaries where the first attribute is the city and the second attribute is the density.  Do this for each of our `city_densities` and store the dictionary in a list called `densities`."
   ]
  },
  {
   "cell_type": "code",
   "execution_count": 25,
   "id": "8f39d34e-0fd3-4df0-aa84-a41d84cb865a",
   "metadata": {},
   "outputs": [
    {
     "data": {
      "text/plain": [
       "[{'city': 'Malé', 'density': 203846.0},\n",
       " {'city': 'Manila', 'density': 111576.0},\n",
       " {'city': 'Bogor', 'density': 104037.0}]"
      ]
     },
     "execution_count": 25,
     "metadata": {},
     "output_type": "execute_result"
    }
   ],
   "source": [
    "densities = []\n",
    "\n",
    "for city, density in city_densities:\n",
    "    densities.append({'city': city, 'density': density})\n",
    "\n",
    "densities[:3]\n",
    "\n",
    "# [{'city': 'Malé', 'density': 203846.0},\n",
    "#  {'city': 'Manila', 'density': 111576.0},\n",
    "#  {'city': 'Bogor', 'density': 104037.0}]"
   ]
  },
  {
   "cell_type": "markdown",
   "id": "ab5c26d1-2581-4431-88bd-235c3509c067",
   "metadata": {},
   "source": [
    "### Working with dictionaries"
   ]
  },
  {
   "cell_type": "markdown",
   "id": "e0d2cd42-d3a5-4736-ba2b-49af559141ff",
   "metadata": {},
   "source": [
    "Ok, now let's go back to our original dictionary."
   ]
  },
  {
   "cell_type": "code",
   "execution_count": 26,
   "id": "817f06e2-d8db-4493-948a-f3916b0e11dc",
   "metadata": {},
   "outputs": [
    {
     "data": {
      "text/plain": [
       "{'city': 'Malé',\n",
       " 'population': '153,904[1]',\n",
       " 'area_mi': '1.956[1]',\n",
       " 'density_mi': 203846.0,\n",
       " 'country': 'Maldives'}"
      ]
     },
     "execution_count": 26,
     "metadata": {},
     "output_type": "execute_result"
    }
   ],
   "source": [
    "first_city = cities[0]\n",
    "\n",
    "first_city"
   ]
  },
  {
   "cell_type": "markdown",
   "id": "a41f83e4-5555-410f-99d4-4d43c5b06aa2",
   "metadata": {},
   "source": [
    "Iterate through the key value pairs, create new list of tuples for information related to the keys of `city` and `country`.  Store this in the `selected_attrs` list."
   ]
  },
  {
   "cell_type": "code",
   "execution_count": 29,
   "id": "f2b2b2f0-c0b8-448b-b380-4a9b7c258cf9",
   "metadata": {},
   "outputs": [
    {
     "data": {
      "text/plain": [
       "[('city', 'Malé'), ('country', 'Maldives')]"
      ]
     },
     "execution_count": 29,
     "metadata": {},
     "output_type": "execute_result"
    }
   ],
   "source": [
    "selected_attrs = []\n",
    "for k, v in first_city.items():\n",
    "    if k == 'city' or k == 'country':\n",
    "        selected_attrs.append((k, v))\n",
    "\n",
    "selected_attrs\n",
    "\n",
    "# [('city', 'Malé'), ('country', 'Maldives')]"
   ]
  },
  {
   "cell_type": "markdown",
   "id": "f885e728-67cb-41e4-b2c3-fc0b8234858c",
   "metadata": {},
   "source": [
    "Ok, and now coerce that list of tuples into a dictionary."
   ]
  },
  {
   "cell_type": "code",
   "execution_count": 30,
   "id": "f3e0c62d-b411-42b4-8065-bf198ba20041",
   "metadata": {},
   "outputs": [
    {
     "data": {
      "text/plain": [
       "{'city': 'Malé', 'country': 'Maldives'}"
      ]
     },
     "execution_count": 30,
     "metadata": {},
     "output_type": "execute_result"
    }
   ],
   "source": [
    "dict(selected_attrs)"
   ]
  },
  {
   "cell_type": "markdown",
   "id": "b0b74ad0-f15a-421f-91a4-4f7230afc7dd",
   "metadata": {},
   "source": [
    "* Do for all"
   ]
  },
  {
   "cell_type": "markdown",
   "id": "80e16e0e-de68-4956-897b-d71f35609a7b",
   "metadata": {},
   "source": [
    "Now if we want, we can loop through all of our cities, and for each city loop through the list of items."
   ]
  },
  {
   "cell_type": "code",
   "execution_count": 34,
   "id": "9becbcf5-2c9c-4947-9bb8-9abb35e0e54c",
   "metadata": {},
   "outputs": [
    {
     "data": {
      "text/plain": [
       "[{'city': 'Malé', 'country': 'Maldives'},\n",
       " {'city': 'Manila', 'country': 'Philippines'},\n",
       " {'city': 'Bogor', 'country': 'Indonesia'}]"
      ]
     },
     "execution_count": 34,
     "metadata": {},
     "output_type": "execute_result"
    }
   ],
   "source": [
    "selected_cities = []\n",
    "for city in cities:\n",
    "    selected_k_vs = []\n",
    "    for k, v in city.items():\n",
    "        if k == 'city' or k == 'country':\n",
    "            selected_k_vs.append((k, v))\n",
    "    selected_cities.append(dict(selected_k_vs))\n",
    "\n",
    "selected_cities[:3]"
   ]
  },
  {
   "cell_type": "markdown",
   "id": "d188ffac-8b76-40ea-89e9-2a1b6764dd0a",
   "metadata": {},
   "source": [
    "But generally, we should avoid nested loops unless we absolutely need them -- it's just too difficult to keep track of all of those variables floating around."
   ]
  },
  {
   "cell_type": "markdown",
   "id": "2b2f515a-5788-424b-8f1f-563ce0e4880b",
   "metadata": {},
   "source": [
    "So instead, we can use our earlier approach.  Just use list comprehension to create a list of city names and countries.  Then we can zip them together, and turn each resulting tuple into a dictionary."
   ]
  },
  {
   "cell_type": "code",
   "execution_count": 4,
   "id": "43a7b551-9838-4224-881f-6b7d438b8a9c",
   "metadata": {},
   "outputs": [
    {
     "data": {
      "text/plain": [
       "[('Malé', 'Maldives'), ('Manila', 'Philippines')]"
      ]
     },
     "execution_count": 4,
     "metadata": {},
     "output_type": "execute_result"
    }
   ],
   "source": [
    "city_names = [city['city'] for city in cities]\n",
    "country_names = [city['country'] for city in cities]\n",
    "\n",
    "city_countries = list(zip(city_names, country_names))\n",
    "city_countries[:2]"
   ]
  },
  {
   "cell_type": "code",
   "execution_count": 5,
   "id": "dfe3b75a-79f1-4f5c-9e54-f5d518ab495f",
   "metadata": {},
   "outputs": [
    {
     "data": {
      "text/plain": [
       "[{'city': 'Malé', 'country': 'Maldives'},\n",
       " {'city': 'Manila', 'country': 'Philippines'},\n",
       " {'city': 'Bogor', 'country': 'Indonesia'}]"
      ]
     },
     "execution_count": 5,
     "metadata": {},
     "output_type": "execute_result"
    }
   ],
   "source": [
    "abbrev_cities = []\n",
    "for city, country in city_countries:\n",
    "    abbrev_cities.append({'city': city, 'country': country})\n",
    "\n",
    "abbrev_cities[:3]"
   ]
  },
  {
   "cell_type": "markdown",
   "id": "b8a69efd-1581-4e9d-ac4f-a56d5e72bfba",
   "metadata": {},
   "source": [
    "Doesn't that look easier?  Instead of looping through our key value pairs, we just select the relevant list of values, zip them together, and then iterate through the list of tuples."
   ]
  },
  {
   "cell_type": "markdown",
   "id": "116797f6-95b4-4e74-b325-bc41ca41933a",
   "metadata": {},
   "source": [
    "### Summary"
   ]
  },
  {
   "cell_type": "markdown",
   "id": "68f9f754-3efd-494d-b98e-9e0910cdb107",
   "metadata": {},
   "source": [
    "In this lesson, we worked with zipping and unpacking, and saw how we can use this to create dictionaries with fewer attributes than our original dictioaries.  Our pattern for doing this was to select the relevant attributes into two separate lists, then zip them together, iterate through the resulting tuples."
   ]
  },
  {
   "cell_type": "code",
   "execution_count": 6,
   "id": "33580ab2-456c-414e-9c9d-a77cf53008eb",
   "metadata": {},
   "outputs": [],
   "source": [
    "city_names = [city['city'] for city in cities]\n",
    "country_names = [city['country'] for city in cities]\n",
    "\n",
    "city_countries = list(zip(city_names, country_names))\n",
    "\n",
    "abbrev_cities = []\n",
    "for city, country in city_countries:\n",
    "    abbrev_cities.append({'city': city, 'country': country})"
   ]
  },
  {
   "cell_type": "markdown",
   "id": "1406f5e8-5e97-44b8-9ece-7184b20d4faa",
   "metadata": {},
   "source": [
    "We also saw how we can -- if we need to -- iterate through the key value pairs of a single dictionary.  We do that with something like the following:"
   ]
  },
  {
   "cell_type": "code",
   "execution_count": 8,
   "id": "abe5a473-121a-4a55-91ee-8d87da51338e",
   "metadata": {},
   "outputs": [
    {
     "data": {
      "text/plain": [
       "[('city', 'Malé'), ('country', 'Maldives')]"
      ]
     },
     "execution_count": 8,
     "metadata": {},
     "output_type": "execute_result"
    }
   ],
   "source": [
    "first_city = cities[0]\n",
    "\n",
    "selected_attrs = []\n",
    "for k, v in first_city.items():\n",
    "    if k == 'city' or k == 'country':\n",
    "        selected_attrs.append((k, v))\n",
    "\n",
    "selected_attrs"
   ]
  },
  {
   "cell_type": "code",
   "execution_count": 9,
   "id": "cf8913a0-8036-4473-a4a7-0d093ed00fd3",
   "metadata": {},
   "outputs": [
    {
     "data": {
      "text/plain": [
       "{'city': 'Malé', 'country': 'Maldives'}"
      ]
     },
     "execution_count": 9,
     "metadata": {},
     "output_type": "execute_result"
    }
   ],
   "source": [
    "dict(selected_attrs)"
   ]
  },
  {
   "cell_type": "code",
   "execution_count": null,
   "id": "9dd6c5d9-ed65-41f2-9494-d8cb676076a2",
   "metadata": {},
   "outputs": [],
   "source": []
  }
 ],
 "metadata": {
  "kernelspec": {
   "display_name": "Python 3 (ipykernel)",
   "language": "python",
   "name": "python3"
  },
  "language_info": {
   "codemirror_mode": {
    "name": "ipython",
    "version": 3
   },
   "file_extension": ".py",
   "mimetype": "text/x-python",
   "name": "python",
   "nbconvert_exporter": "python",
   "pygments_lexer": "ipython3",
   "version": "3.11.5"
  }
 },
 "nbformat": 4,
 "nbformat_minor": 5
}
