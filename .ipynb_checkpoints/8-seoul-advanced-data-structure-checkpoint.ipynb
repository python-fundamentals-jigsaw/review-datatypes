{
 "cells": [
  {
   "cell_type": "markdown",
   "metadata": {},
   "source": [
    "# Seoul Bike Sharing Lab"
   ]
  },
  {
   "cell_type": "markdown",
   "metadata": {},
   "source": [
    "### Introduction"
   ]
  },
  {
   "cell_type": "markdown",
   "metadata": {},
   "source": [
    "Ok, so now let's return to our Seoul bike sharing lab.  Where we last left off, we explored the initial data, identifying the grain of the data, seeing if there were overlapping attributes adn then exploring the completeness and the time period that the dataset included.\n",
    "\n",
    "Let's pick that back up.  And continue to work with our data."
   ]
  },
  {
   "cell_type": "markdown",
   "metadata": {},
   "source": [
    "### Loading our data"
   ]
  },
  {
   "cell_type": "markdown",
   "metadata": {},
   "source": [
    "Let's read in the data"
   ]
  },
  {
   "cell_type": "code",
   "execution_count": 1,
   "metadata": {},
   "outputs": [
    {
     "data": {
      "text/html": [
       "<div>\n",
       "<style scoped>\n",
       "    .dataframe tbody tr th:only-of-type {\n",
       "        vertical-align: middle;\n",
       "    }\n",
       "\n",
       "    .dataframe tbody tr th {\n",
       "        vertical-align: top;\n",
       "    }\n",
       "\n",
       "    .dataframe thead th {\n",
       "        text-align: right;\n",
       "    }\n",
       "</style>\n",
       "<table border=\"1\" class=\"dataframe\">\n",
       "  <thead>\n",
       "    <tr style=\"text-align: right;\">\n",
       "      <th></th>\n",
       "      <th>Date</th>\n",
       "      <th>Rented Bike Count</th>\n",
       "      <th>Hour</th>\n",
       "      <th>Temperature(°C)</th>\n",
       "      <th>Humidity(%)</th>\n",
       "      <th>Wind speed (m/s)</th>\n",
       "      <th>Visibility (10m)</th>\n",
       "      <th>Dew point temperature(°C)</th>\n",
       "      <th>Solar Radiation (MJ/m2)</th>\n",
       "      <th>Rainfall(mm)</th>\n",
       "      <th>Snowfall (cm)</th>\n",
       "      <th>Seasons</th>\n",
       "      <th>Holiday</th>\n",
       "      <th>Functioning Day</th>\n",
       "    </tr>\n",
       "  </thead>\n",
       "  <tbody>\n",
       "    <tr>\n",
       "      <th>0</th>\n",
       "      <td>01/12/2017</td>\n",
       "      <td>254</td>\n",
       "      <td>0</td>\n",
       "      <td>-5.2</td>\n",
       "      <td>37</td>\n",
       "      <td>2.2</td>\n",
       "      <td>2000</td>\n",
       "      <td>-17.6</td>\n",
       "      <td>0.0</td>\n",
       "      <td>0.0</td>\n",
       "      <td>0.0</td>\n",
       "      <td>Winter</td>\n",
       "      <td>No Holiday</td>\n",
       "      <td>Yes</td>\n",
       "    </tr>\n",
       "    <tr>\n",
       "      <th>1</th>\n",
       "      <td>01/12/2017</td>\n",
       "      <td>204</td>\n",
       "      <td>1</td>\n",
       "      <td>-5.5</td>\n",
       "      <td>38</td>\n",
       "      <td>0.8</td>\n",
       "      <td>2000</td>\n",
       "      <td>-17.6</td>\n",
       "      <td>0.0</td>\n",
       "      <td>0.0</td>\n",
       "      <td>0.0</td>\n",
       "      <td>Winter</td>\n",
       "      <td>No Holiday</td>\n",
       "      <td>Yes</td>\n",
       "    </tr>\n",
       "  </tbody>\n",
       "</table>\n",
       "</div>"
      ],
      "text/plain": [
       "         Date  Rented Bike Count  Hour  Temperature(°C)  Humidity(%)  \\\n",
       "0  01/12/2017                254     0             -5.2           37   \n",
       "1  01/12/2017                204     1             -5.5           38   \n",
       "\n",
       "   Wind speed (m/s)  Visibility (10m)  Dew point temperature(°C)  \\\n",
       "0               2.2              2000                      -17.6   \n",
       "1               0.8              2000                      -17.6   \n",
       "\n",
       "   Solar Radiation (MJ/m2)  Rainfall(mm)  Snowfall (cm) Seasons     Holiday  \\\n",
       "0                      0.0           0.0            0.0  Winter  No Holiday   \n",
       "1                      0.0           0.0            0.0  Winter  No Holiday   \n",
       "\n",
       "  Functioning Day  \n",
       "0             Yes  \n",
       "1             Yes  "
      ]
     },
     "execution_count": 1,
     "metadata": {},
     "output_type": "execute_result"
    }
   ],
   "source": [
    "import pandas as pd\n",
    "url = \"https://raw.githubusercontent.com/python-fundamentals-jigsaw/review-datatypes/main/SeoulBikeData.csv\"\n",
    "df = pd.read_csv(url, encoding='unicode_escape')\n",
    "df[:2]"
   ]
  },
  {
   "cell_type": "markdown",
   "metadata": {},
   "source": [
    "And then we can coerce this to a list of dictionaries."
   ]
  },
  {
   "cell_type": "code",
   "execution_count": 2,
   "metadata": {},
   "outputs": [],
   "source": [
    "bike_hours = df.to_dict('records')"
   ]
  },
  {
   "cell_type": "markdown",
   "metadata": {},
   "source": [
    "### Remembering our data"
   ]
  },
  {
   "cell_type": "markdown",
   "metadata": {},
   "source": [
    "Ok, so let's begin by taking another look at the attributes of our bike data."
   ]
  },
  {
   "cell_type": "code",
   "execution_count": 3,
   "metadata": {},
   "outputs": [
    {
     "name": "stdout",
     "output_type": "stream",
     "text": [
      "dict_keys(['Date', 'Rented Bike Count', 'Hour', 'Temperature(°C)', 'Humidity(%)', 'Wind speed (m/s)', 'Visibility (10m)', 'Dew point temperature(°C)', 'Solar Radiation (MJ/m2)', 'Rainfall(mm)', 'Snowfall (cm)', 'Seasons', 'Holiday', 'Functioning Day'])\n"
     ]
    }
   ],
   "source": [
    "first_record = bike_hours[0]\n",
    "\n",
    "print(first_record.keys())"
   ]
  },
  {
   "cell_type": "markdown",
   "metadata": {},
   "source": [
    "Now let's just create a list of dictionaries that has a subset of these attributes."
   ]
  },
  {
   "cell_type": "markdown",
   "metadata": {},
   "source": [
    "Ok, so now we'll create the dictionaries with those attributes:\n",
    "\n",
    "*  `'Rented Bike Count'`, `'Hour'`, `'Temperature(°C)'`, `'Rainfall(mm)'`, `'Seasons'`, `'Holiday'` and `Formatted Date`."
   ]
  },
  {
   "cell_type": "markdown",
   "metadata": {},
   "source": [
    "> We'll get you started."
   ]
  },
  {
   "cell_type": "code",
   "execution_count": 104,
   "metadata": {},
   "outputs": [
    {
     "name": "stdout",
     "output_type": "stream",
     "text": [
      "[{'Rented Bike Count': 254, 'Hour': 0, 'Temperature(°C)': -5.2, 'Rainfall(mm)': 0.0, 'Seasons': 'Winter', 'Holiday': 'No Holiday'}, {'Rented Bike Count': 204, 'Hour': 1, 'Temperature(°C)': -5.5, 'Rainfall(mm)': 0.0, 'Seasons': 'Winter', 'Holiday': 'No Holiday'}]\n"
     ]
    }
   ],
   "source": [
    "attrs = ['Rented Bike Count', 'Hour', 'Temperature(°C)', 'Rainfall(mm)', 'Seasons', 'Holiday']\n",
    "selected_bike_hours = []\n",
    "for bike_hour in bike_hours:\n",
    "    selected_attrs = [] \n",
    "    for k, v in bike_hour.items():\n",
    "        if k in attrs:\n",
    "            selected_attrs.append((k, v))\n",
    "    selected_bike_hours.append(dict(selected_attrs))\n",
    "print(selected_bike_hours[:2])\n",
    "\n",
    "# Here we use a nested loop, because otherwise, we would have to zip together \n",
    "# many different lists, not just one or two"
   ]
  },
  {
   "cell_type": "markdown",
   "metadata": {},
   "source": [
    "Now the only thing missing is the formatted dates, that we created in our previous Seoul lab."
   ]
  },
  {
   "cell_type": "code",
   "execution_count": 105,
   "metadata": {},
   "outputs": [
    {
     "data": {
      "text/plain": [
       "['2017/12/01', '2017/12/01']"
      ]
     },
     "execution_count": 105,
     "metadata": {},
     "output_type": "execute_result"
    }
   ],
   "source": [
    "formatted_dates = []\n",
    "for bike_hour in bike_hours:\n",
    "    date = bike_hour['Date']\n",
    "    formatted_date = '/'.join(list(reversed(date.split('/'))))\n",
    "    formatted_dates.append(formatted_date)\n",
    "formatted_dates[:2]"
   ]
  },
  {
   "cell_type": "markdown",
   "metadata": {},
   "source": [
    "So use zip to iterate through the list of `selected_bike_hours` above, and add in the `formatted_date` for each dictionary. "
   ]
  },
  {
   "cell_type": "markdown",
   "metadata": {},
   "source": [
    "Remember, you can assign a new key value pair to a dictionary with the following:"
   ]
  },
  {
   "cell_type": "code",
   "execution_count": 4,
   "metadata": {},
   "outputs": [
    {
     "data": {
      "text/plain": [
       "{'name': 'Fred', 'hometown': 'NYC'}"
      ]
     },
     "execution_count": 4,
     "metadata": {},
     "output_type": "execute_result"
    }
   ],
   "source": [
    "original_dict = {'name': 'Fred'}\n",
    "\n",
    "original_dict['hometown'] = 'NYC'\n",
    "original_dict"
   ]
  },
  {
   "cell_type": "markdown",
   "metadata": {},
   "source": [
    "Ok, we'll let you get started.  To repeat, use zip to iterate through the list of selected_bike_hours above, and add in the formatted_date for each dictionary"
   ]
  },
  {
   "cell_type": "code",
   "execution_count": 106,
   "metadata": {},
   "outputs": [],
   "source": []
  },
  {
   "cell_type": "code",
   "execution_count": 107,
   "metadata": {},
   "outputs": [
    {
     "name": "stdout",
     "output_type": "stream",
     "text": [
      "[{'Rented Bike Count': 254, 'Hour': 0, 'Temperature(°C)': -5.2, 'Rainfall(mm)': 0.0, 'Seasons': 'Winter', 'Holiday': 'No Holiday', 'Formatted Date': '2017/12/01'}]\n"
     ]
    }
   ],
   "source": [
    "print(selected_bike_hours[:1])\n",
    "\n",
    "# [{'Rented Bike Count': 254, 'Hour': 0, 'Temperature(°C)': -5.2, 'Rainfall(mm)': 0.0, 'Seasons': 'Winter', 'Holiday': 'No Holiday', 'Formatted Date': '2017/12/01'}]"
   ]
  },
  {
   "cell_type": "code",
   "execution_count": 108,
   "metadata": {},
   "outputs": [
    {
     "data": {
      "text/plain": [
       "8760"
      ]
     },
     "execution_count": 108,
     "metadata": {},
     "output_type": "execute_result"
    }
   ],
   "source": [
    "len(selected_bike_hours)\n",
    "\n",
    "# 8760"
   ]
  },
  {
   "cell_type": "markdown",
   "metadata": {},
   "source": [
    "Ok, so now we can see a dataset with reduced key value pairs."
   ]
  },
  {
   "cell_type": "markdown",
   "metadata": {},
   "source": [
    "* Looking for missing data"
   ]
  },
  {
   "cell_type": "markdown",
   "metadata": {},
   "source": [
    "Next let's look for missing data.  Let's take a look at one of our dictionaries."
   ]
  },
  {
   "cell_type": "code",
   "execution_count": 109,
   "metadata": {},
   "outputs": [
    {
     "name": "stdout",
     "output_type": "stream",
     "text": [
      "{'Rented Bike Count': 254, 'Hour': 0, 'Temperature(°C)': -5.2, 'Rainfall(mm)': 0.0, 'Seasons': 'Winter', 'Holiday': 'No Holiday', 'Formatted Date': '2017/12/01'}\n"
     ]
    }
   ],
   "source": [
    "first_hour = selected_bike_hours[0]\n",
    "\n",
    "print(first_hour)"
   ]
  },
  {
   "cell_type": "markdown",
   "metadata": {},
   "source": [
    "Now for all of our dictionaries, iterate through the keys value pairs, and if the value is `None` or an empty string, append the key to a list. "
   ]
  },
  {
   "cell_type": "code",
   "execution_count": 110,
   "metadata": {
    "scrolled": true
   },
   "outputs": [
    {
     "data": {
      "text/plain": [
       "[]"
      ]
     },
     "execution_count": 110,
     "metadata": {},
     "output_type": "execute_result"
    }
   ],
   "source": [
    "missing_keys = []\n",
    "for selected_hour in selected_bike_hours:\n",
    "    for k, v in selected_hour.items():\n",
    "        if v == None or v == '':\n",
    "            missing_keys.append(k)\n",
    "\n",
    "missing_keys[:3]"
   ]
  },
  {
   "cell_type": "markdown",
   "metadata": {},
   "source": [
    "Ok, so no missing values were found.  That's good news."
   ]
  },
  {
   "cell_type": "markdown",
   "metadata": {},
   "source": [
    "### Data Exploration\n",
    "\n",
    "Okay, so now let's calculate the total number of bike rentals per hour.  We'll initialize a new dictionary for you using some fancy dictionary comprehension -- whatever that is."
   ]
  },
  {
   "cell_type": "code",
   "execution_count": 111,
   "metadata": {},
   "outputs": [
    {
     "name": "stdout",
     "output_type": "stream",
     "text": [
      "{0: 0, 1: 0, 2: 0, 3: 0, 4: 0, 5: 0, 6: 0, 7: 0, 8: 0, 9: 0, 10: 0, 11: 0, 12: 0, 13: 0, 14: 0, 15: 0, 16: 0, 17: 0, 18: 0, 19: 0, 20: 0, 21: 0, 22: 0, 23: 0}\n"
     ]
    }
   ],
   "source": [
    "total_bike_rentals_per_hour = {hour: 0 for hour in range(24)}\n",
    "print(total_bike_rentals_per_hour)"
   ]
  },
  {
   "cell_type": "markdown",
   "metadata": {},
   "source": [
    "So you can see that we created a dictionary that has a key for each hour, setting the value to zero."
   ]
  },
  {
   "cell_type": "markdown",
   "metadata": {},
   "source": [
    "Now populate that dictionary with the total number of bike rentals for each hour."
   ]
  },
  {
   "cell_type": "code",
   "execution_count": 113,
   "metadata": {},
   "outputs": [
    {
     "name": "stdout",
     "output_type": "stream",
     "text": [
      "{0: 197633, 1: 155557, 2: 110095, 3: 74216, 4: 48396, 5: 50765, 6: 104961, 7: 221192, 8: 370731, 9: 235784, 10: 192655, 11: 219311, 12: 255296, 13: 267635, 14: 276971, 15: 302653, 16: 339677, 17: 415556, 18: 548568, 19: 436229, 20: 390172, 21: 376479, 22: 336821, 23: 244961}\n"
     ]
    }
   ],
   "source": [
    "\n",
    "# {0: 197633, 1: 155557, 2: 110095, 3: 74216,\n",
    "# 4: 48396, 5: 50765, 6: 104961, 7: 221192, 8: 370731, 9: 235784, 10: 192655, 11: 219311, 12: 255296, 13: 267635, 14: 276971, 15: 302653, 16: 339677, 17: 415556, 18: 548568, 19: 436229, 20: 390172, 21: 376479, 22: 336821, 23: 244961}"
   ]
  },
  {
   "cell_type": "markdown",
   "metadata": {},
   "source": [
    "So these are the total number of bikes rented across all hours.  Next, find the average bike rented per each hour.  To do that create another dictionary that has a count of each time the hour was seen in the dataset."
   ]
  },
  {
   "cell_type": "markdown",
   "metadata": {},
   "source": [
    "This time, produce that initial dictionary yourself."
   ]
  },
  {
   "cell_type": "code",
   "execution_count": 8,
   "metadata": {},
   "outputs": [
    {
     "name": "stdout",
     "output_type": "stream",
     "text": [
      "{0: 0, 1: 0, 2: 0, 3: 0, 4: 0, 5: 0, 6: 0, 7: 0, 8: 0, 9: 0, 10: 0, 11: 0, 12: 0, 13: 0, 14: 0, 15: 0, 16: 0, 17: 0, 18: 0, 19: 0, 20: 0, 21: 0, 22: 0, 23: 0}\n"
     ]
    }
   ],
   "source": [
    "count_bike_rentals_per_hour = None\n",
    "\n",
    "print(count_bike_rentals_per_hour)\n",
    "# {0: 0, 1: 0, 2: 0, 3: 0, 4: 0, 5: 0, 6: 0, 7: 0, 8: 0, 9: 0, 10: 0, 11: 0, 12: 0, 13: 0, 14: 0, 15: 0, 16: 0, 17: 0, 18: 0, 19: 0, 20: 0, 21: 0, 22: 0, 23: 0}"
   ]
  },
  {
   "cell_type": "markdown",
   "metadata": {},
   "source": [
    "And then count up each time the hour was seen."
   ]
  },
  {
   "cell_type": "code",
   "execution_count": 116,
   "metadata": {},
   "outputs": [
    {
     "name": "stdout",
     "output_type": "stream",
     "text": [
      "{0: 365, 1: 365, 2: 365, 3: 365, 4: 365, 5: 365, 6: 365, 7: 365, 8: 365, 9: 365, 10: 365, 11: 365, 12: 365, 13: 365, 14: 365, 15: 365, 16: 365, 17: 365, 18: 365, 19: 365, 20: 365, 21: 365, 22: 365, 23: 365}\n"
     ]
    }
   ],
   "source": [
    "\n",
    "count_bike_rentals_per_hour\n",
    "\n",
    "# {0: 365, 1: 365, 2: 365, 3: 365, 4: 365, 5: 365, 6: 365, 7: 365, 8: 365, 9: 365, 10: 365, 11: 365, 12: 365, 13: 365, 14: 365, 15: 365, 16: 365, 17: 365,\n",
    "#  18: 365, 19: 365, 20: 365, 21: 365, 22: 365, 23: 365}"
   ]
  },
  {
   "cell_type": "markdown",
   "metadata": {},
   "source": [
    "Ok, so it looks like they were each seen 365 times.  Confirm that by showing there is only one value in the dictionary -- 365."
   ]
  },
  {
   "cell_type": "code",
   "execution_count": 117,
   "metadata": {},
   "outputs": [
    {
     "data": {
      "text/plain": [
       "{365}"
      ]
     },
     "execution_count": 117,
     "metadata": {},
     "output_type": "execute_result"
    }
   ],
   "source": [
    "\n",
    "\n",
    "# {365}"
   ]
  },
  {
   "cell_type": "markdown",
   "metadata": {},
   "source": [
    "Ok, so now divide each of the values in `total_bike_rentals_per_hour` by 365 to produce `avg_bike_rentals_per_hour`, and round to the nearest whole number."
   ]
  },
  {
   "cell_type": "code",
   "execution_count": 9,
   "metadata": {},
   "outputs": [
    {
     "name": "stdout",
     "output_type": "stream",
     "text": [
      "{}\n"
     ]
    }
   ],
   "source": [
    "avg_bike_rentals = {}\n",
    "\n",
    "print(avg_bike_rentals)\n",
    "\n",
    "# {0: 541, 1: 426, 2: 302, 3: 203, 4: 133, 5: 139, 6: 288, 7: 606, 8: 1016, 9: 646, 10: 528, 11: 601, 12: 699, 13: 733, 14: 759, 15: 829, 16: 931, 17: 1139,\n",
    "#  18: 1503, 19: 1195, 20: 1069, 21: 1031, 22: 923, 23: 671}"
   ]
  },
  {
   "cell_type": "markdown",
   "metadata": {},
   "source": [
    "Can we plot it? Let's use a bit of plotly."
   ]
  },
  {
   "cell_type": "markdown",
   "metadata": {},
   "source": [
    "> You may need to uncomment and run the following two lines."
   ]
  },
  {
   "cell_type": "code",
   "execution_count": 11,
   "metadata": {},
   "outputs": [],
   "source": [
    "# !pip install plotly\n",
    "# !jupyter labextension install jupyterlab-plotly"
   ]
  },
  {
   "cell_type": "code",
   "execution_count": 12,
   "metadata": {},
   "outputs": [],
   "source": [
    "hours = list(avg_bike_rentals.keys())\n",
    "avg_rentals = list(avg_bike_rentals.values())"
   ]
  },
  {
   "cell_type": "code",
   "execution_count": 15,
   "metadata": {},
   "outputs": [],
   "source": [
    "import plotly.graph_objects as go\n",
    "fig = go.Figure(data = go.Scatter(x = hours, y = avg_rentals))\n",
    "fig"
   ]
  },
  {
   "cell_type": "markdown",
   "metadata": {},
   "source": [
    "* More analysis"
   ]
  },
  {
   "cell_type": "markdown",
   "metadata": {},
   "source": [
    "Ok, now let's see what else can do with our data.  For example, remember that we also have information on each season.  So for each season, find the total number of bikes rented.\n",
    "\n",
    "> Try not to look at your work above."
   ]
  },
  {
   "cell_type": "code",
   "execution_count": 148,
   "metadata": {},
   "outputs": [],
   "source": [
    "seasons = ['Winter', 'Spring', 'Summer', 'Autumn']\n",
    "# selected_bike_hours\n",
    "total_hours_per_season = {}"
   ]
  },
  {
   "cell_type": "code",
   "execution_count": 149,
   "metadata": {},
   "outputs": [
    {
     "name": "stdout",
     "output_type": "stream",
     "text": [
      "{'Winter': 487169, 'Spring': 1611909, 'Summer': 2283234, 'Autumn': 1790002}\n"
     ]
    }
   ],
   "source": [
    "print(total_hours_per_season)\n",
    "\n",
    "# {'Winter': 487169, 'Spring': 1611909, 'Summer': 2283234, 'Autumn': 1790002}"
   ]
  },
  {
   "cell_type": "markdown",
   "metadata": {},
   "source": [
    "Then **count** the number of bike hours per season."
   ]
  },
  {
   "cell_type": "code",
   "execution_count": 150,
   "metadata": {},
   "outputs": [],
   "source": [
    "seasons = ['Winter', 'Spring', 'Summer', 'Autumn']\n",
    "# selected_bike_hours\n",
    "\n",
    "num_hours_per_season = {}\n"
   ]
  },
  {
   "cell_type": "code",
   "execution_count": 151,
   "metadata": {},
   "outputs": [
    {
     "data": {
      "text/plain": [
       "{'Winter': 2160, 'Spring': 2208, 'Summer': 2208, 'Autumn': 2184}"
      ]
     },
     "execution_count": 151,
     "metadata": {},
     "output_type": "execute_result"
    }
   ],
   "source": [
    "num_hours_per_season\n",
    "# {'Winter': 2160, 'Spring': 2208,\n",
    "# 'Summer': 2208, 'Autumn': 2184}"
   ]
  },
  {
   "cell_type": "markdown",
   "metadata": {},
   "source": [
    "And from here, return a dictionary of the avg bike rentals per season."
   ]
  },
  {
   "cell_type": "code",
   "execution_count": 153,
   "metadata": {},
   "outputs": [
    {
     "data": {
      "text/plain": [
       "{'Winter': 226, 'Spring': 730, 'Summer': 1034, 'Autumn': 820}"
      ]
     },
     "execution_count": 153,
     "metadata": {},
     "output_type": "execute_result"
    }
   ],
   "source": [
    "avg_rentals_per_hour_season = {}\n",
    "\n",
    "# {'Winter': 226, 'Spring': 730, 'Summer': 1034, 'Autumn': 820}"
   ]
  },
  {
   "cell_type": "markdown",
   "metadata": {},
   "source": [
    "Ok, that's good enough for now."
   ]
  },
  {
   "cell_type": "markdown",
   "metadata": {},
   "source": [
    "### Summary"
   ]
  },
  {
   "cell_type": "markdown",
   "metadata": {},
   "source": [
    "In this lesson, we moved through formatting our data (by selecting relevant attributes, and adding in our formatted dates).  And from there, we checked to see if there was any missing data. \n",
    "\n",
    "Then we moved onto some analysis -- calculating the average rentals per hour.  And initializing with dictionary comprehension."
   ]
  },
  {
   "cell_type": "code",
   "execution_count": 155,
   "metadata": {},
   "outputs": [
    {
     "name": "stdout",
     "output_type": "stream",
     "text": [
      "{0: 0, 1: 0, 2: 0, 3: 0, 4: 0, 5: 0, 6: 0, 7: 0, 8: 0, 9: 0, 10: 0, 11: 0, 12: 0, 13: 0, 14: 0, 15: 0, 16: 0, 17: 0, 18: 0, 19: 0, 20: 0, 21: 0, 22: 0, 23: 0}\n"
     ]
    }
   ],
   "source": [
    "print({hour: 0 for hour in range(24)})"
   ]
  },
  {
   "cell_type": "markdown",
   "metadata": {},
   "source": [
    "And then performed calculations to find the average rentals per hour and per season."
   ]
  }
 ],
 "metadata": {
  "kernelspec": {
   "display_name": "Python 3 (ipykernel)",
   "language": "python",
   "name": "python3"
  },
  "language_info": {
   "codemirror_mode": {
    "name": "ipython",
    "version": 3
   },
   "file_extension": ".py",
   "mimetype": "text/x-python",
   "name": "python",
   "nbconvert_exporter": "python",
   "pygments_lexer": "ipython3",
   "version": "3.11.5"
  }
 },
 "nbformat": 4,
 "nbformat_minor": 4
}
