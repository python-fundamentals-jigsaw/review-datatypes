{
 "cells": [
  {
   "cell_type": "markdown",
   "metadata": {},
   "source": [
    "# Bike Sharing Data Cleanup Lab"
   ]
  },
  {
   "cell_type": "markdown",
   "metadata": {},
   "source": [
    "### Introduction"
   ]
  },
  {
   "cell_type": "markdown",
   "metadata": {},
   "source": [
    "In this lesson, we'll use our knowledge of working with data to analyze the Seoul bike sharing system.\n",
    "\n",
    "The Seoul bike sharing system, has over 800 stations all across Seoul. And it is used by many to move about in the city. We'll explore this data to try to better understand how these bikes are used, which we can use as a case study for understanding bike systems more broadly."
   ]
  },
  {
   "cell_type": "markdown",
   "metadata": {},
   "source": [
    "> **Note**: Please do not use list comprehension at this point -- we will practice that in a later lesson."
   ]
  },
  {
   "cell_type": "markdown",
   "metadata": {},
   "source": [
    "### Loading our data"
   ]
  },
  {
   "cell_type": "markdown",
   "metadata": {},
   "source": [
    "Let's read in the data"
   ]
  },
  {
   "cell_type": "code",
   "execution_count": 11,
   "metadata": {},
   "outputs": [
    {
     "data": {
      "text/html": [
       "<div>\n",
       "<style scoped>\n",
       "    .dataframe tbody tr th:only-of-type {\n",
       "        vertical-align: middle;\n",
       "    }\n",
       "\n",
       "    .dataframe tbody tr th {\n",
       "        vertical-align: top;\n",
       "    }\n",
       "\n",
       "    .dataframe thead th {\n",
       "        text-align: right;\n",
       "    }\n",
       "</style>\n",
       "<table border=\"1\" class=\"dataframe\">\n",
       "  <thead>\n",
       "    <tr style=\"text-align: right;\">\n",
       "      <th></th>\n",
       "      <th>Date</th>\n",
       "      <th>Rented Bike Count</th>\n",
       "      <th>Hour</th>\n",
       "      <th>Temperature(°C)</th>\n",
       "      <th>Humidity(%)</th>\n",
       "      <th>Wind speed (m/s)</th>\n",
       "      <th>Visibility (10m)</th>\n",
       "      <th>Dew point temperature(°C)</th>\n",
       "      <th>Solar Radiation (MJ/m2)</th>\n",
       "      <th>Rainfall(mm)</th>\n",
       "      <th>Snowfall (cm)</th>\n",
       "      <th>Seasons</th>\n",
       "      <th>Holiday</th>\n",
       "      <th>Functioning Day</th>\n",
       "    </tr>\n",
       "  </thead>\n",
       "  <tbody>\n",
       "    <tr>\n",
       "      <th>0</th>\n",
       "      <td>01/12/2017</td>\n",
       "      <td>254</td>\n",
       "      <td>0</td>\n",
       "      <td>-5.2</td>\n",
       "      <td>37</td>\n",
       "      <td>2.2</td>\n",
       "      <td>2000</td>\n",
       "      <td>-17.6</td>\n",
       "      <td>0.0</td>\n",
       "      <td>0.0</td>\n",
       "      <td>0.0</td>\n",
       "      <td>Winter</td>\n",
       "      <td>No Holiday</td>\n",
       "      <td>Yes</td>\n",
       "    </tr>\n",
       "    <tr>\n",
       "      <th>1</th>\n",
       "      <td>01/12/2017</td>\n",
       "      <td>204</td>\n",
       "      <td>1</td>\n",
       "      <td>-5.5</td>\n",
       "      <td>38</td>\n",
       "      <td>0.8</td>\n",
       "      <td>2000</td>\n",
       "      <td>-17.6</td>\n",
       "      <td>0.0</td>\n",
       "      <td>0.0</td>\n",
       "      <td>0.0</td>\n",
       "      <td>Winter</td>\n",
       "      <td>No Holiday</td>\n",
       "      <td>Yes</td>\n",
       "    </tr>\n",
       "  </tbody>\n",
       "</table>\n",
       "</div>"
      ],
      "text/plain": [
       "         Date  Rented Bike Count  Hour  Temperature(°C)  Humidity(%)  \\\n",
       "0  01/12/2017                254     0             -5.2           37   \n",
       "1  01/12/2017                204     1             -5.5           38   \n",
       "\n",
       "   Wind speed (m/s)  Visibility (10m)  Dew point temperature(°C)  \\\n",
       "0               2.2              2000                      -17.6   \n",
       "1               0.8              2000                      -17.6   \n",
       "\n",
       "   Solar Radiation (MJ/m2)  Rainfall(mm)  Snowfall (cm) Seasons     Holiday  \\\n",
       "0                      0.0           0.0            0.0  Winter  No Holiday   \n",
       "1                      0.0           0.0            0.0  Winter  No Holiday   \n",
       "\n",
       "  Functioning Day  \n",
       "0             Yes  \n",
       "1             Yes  "
      ]
     },
     "execution_count": 11,
     "metadata": {},
     "output_type": "execute_result"
    }
   ],
   "source": [
    "import pandas as pd\n",
    "url = \"https://raw.githubusercontent.com/python-fundamentals-jigsaw/review-datatypes/main/SeoulBikeData.csv\"\n",
    "df = pd.read_csv(url, encoding='unicode_escape')\n",
    "df[:2]"
   ]
  },
  {
   "cell_type": "markdown",
   "metadata": {},
   "source": [
    "And then we can coerce this to a list of dictionaries."
   ]
  },
  {
   "cell_type": "code",
   "execution_count": 2,
   "metadata": {},
   "outputs": [],
   "source": [
    "bike_hours = df.to_dict('records')"
   ]
  },
  {
   "cell_type": "markdown",
   "metadata": {},
   "source": [
    "### Exploring our data"
   ]
  },
  {
   "cell_type": "markdown",
   "metadata": {},
   "source": [
    "Ok, let's start off by exploring our dataset.  Select the first element from the list of dictionaries below."
   ]
  },
  {
   "cell_type": "code",
   "execution_count": 4,
   "metadata": {},
   "outputs": [
    {
     "name": "stdout",
     "output_type": "stream",
     "text": [
      "{'Date': '01/12/2017', 'Rented Bike Count': 254, 'Hour': 0, 'Temperature(°C)': -5.2, 'Humidity(%)': 37, 'Wind speed (m/s)': 2.2, 'Visibility (10m)': 2000, 'Dew point temperature(°C)': -17.6, 'Solar Radiation (MJ/m2)': 0.0, 'Rainfall(mm)': 0.0, 'Snowfall (cm)': 0.0, 'Seasons': 'Winter', 'Holiday': 'No Holiday', 'Functioning Day': 'Yes'}\n"
     ]
    }
   ],
   "source": [
    "first_record = bike_hours[0]\n",
    "\n",
    "print(first_record)"
   ]
  },
  {
   "cell_type": "markdown",
   "metadata": {},
   "source": [
    "And then to make this easier, let's just display the keys of our `first_record`."
   ]
  },
  {
   "cell_type": "code",
   "execution_count": 5,
   "metadata": {},
   "outputs": [
    {
     "data": {
      "text/plain": [
       "dict_keys(['Date', 'Rented Bike Count', 'Hour', 'Temperature(°C)', 'Humidity(%)', 'Wind speed (m/s)', 'Visibility (10m)', 'Dew point temperature(°C)', 'Solar Radiation (MJ/m2)', 'Rainfall(mm)', 'Snowfall (cm)', 'Seasons', 'Holiday', 'Functioning Day'])"
      ]
     },
     "execution_count": 5,
     "metadata": {},
     "output_type": "execute_result"
    }
   ],
   "source": [
    "record_keys = None\n",
    "\n",
    "record_keys\n",
    "\n",
    "# dict_keys(['Date', 'Rented Bike Count', 'Hour', 'Temperature(°C)', 'Humidity(%)', 'Wind speed (m/s)', 'Visibility (10m)', \n",
    "# 'Dew point temperature(°C)', 'Solar Radiation (MJ/m2)', 'Rainfall(mm)', 'Snowfall (cm)', \n",
    "# 'Seasons', 'Holiday', 'Functioning Day'])"
   ]
  },
  {
   "cell_type": "markdown",
   "metadata": {},
   "source": [
    "Ok so we can see that we have keys of `Date`, `Rented Bike Count`, and `Hour` among others.  At this point we can identify the **grain** of the data.\n",
    "\n",
    "By the grain of the data, we mean, what does each record represent.  In this case, each record indicates the number of bikes in a given hour.  Then the other attributes like windspeed and rainfall describe weather conditions of that hour."
   ]
  },
  {
   "cell_type": "markdown",
   "metadata": {},
   "source": [
    "* A discrepancy?"
   ]
  },
  {
   "cell_type": "markdown",
   "metadata": {},
   "source": [
    "It looks like there may be some overlap in our keys.  Notice that the last two attributes are `'Holiday'`, and `'Functioning Day'`. Do these represent the same thing?  \n",
    "\n",
    "Begin by creating a list of all of the values for `Holiday`.  And then create a list for all of the values for `Functioning Day`.  Slice the first five records."
   ]
  },
  {
   "cell_type": "markdown",
   "metadata": {},
   "source": [
    "> Remember: Please do not use list comprehension at this point -- we will practice that in a later lesson."
   ]
  },
  {
   "cell_type": "code",
   "execution_count": 29,
   "metadata": {},
   "outputs": [
    {
     "data": {
      "text/plain": [
       "['No Holiday', 'No Holiday', 'No Holiday', 'No Holiday', 'No Holiday']"
      ]
     },
     "execution_count": 29,
     "metadata": {},
     "output_type": "execute_result"
    }
   ],
   "source": [
    "holidays = None\n",
    "\n",
    "holidays[:5]\n",
    "# ['No Holiday', 'No Holiday', 'No Holiday', 'No Holiday', 'No Holiday']"
   ]
  },
  {
   "cell_type": "markdown",
   "metadata": {},
   "source": [
    "And then let's do the same thing for `'Functioning Day'`."
   ]
  },
  {
   "cell_type": "code",
   "execution_count": 32,
   "metadata": {},
   "outputs": [
    {
     "data": {
      "text/plain": [
       "['Yes', 'Yes', 'Yes', 'Yes', 'Yes']"
      ]
     },
     "execution_count": 32,
     "metadata": {},
     "output_type": "execute_result"
    }
   ],
   "source": [
    "functioning_days = None\n",
    "\n",
    "\n",
    "functioning_days[:5]\n",
    "\n",
    "# ['Yes', 'Yes', 'Yes', 'Yes', 'Yes']"
   ]
  },
  {
   "cell_type": "markdown",
   "metadata": {},
   "source": [
    "Ok, so it looks like, perhaps, when there is `No Holiday` that the value of functioning day is `Yes`."
   ]
  },
  {
   "cell_type": "markdown",
   "metadata": {},
   "source": [
    "Let's do a little more digging --  find the unique values relating to `Holiday`."
   ]
  },
  {
   "cell_type": "code",
   "execution_count": 31,
   "metadata": {},
   "outputs": [
    {
     "data": {
      "text/plain": [
       "{'Holiday', 'No Holiday'}"
      ]
     },
     "execution_count": 31,
     "metadata": {},
     "output_type": "execute_result"
    }
   ],
   "source": [
    "\n",
    "\n",
    "\n",
    "# {'Holiday', 'No Holiday'}"
   ]
  },
  {
   "cell_type": "markdown",
   "metadata": {},
   "source": [
    "And find all of the unique values relating to `Functioning Day`."
   ]
  },
  {
   "cell_type": "code",
   "execution_count": 33,
   "metadata": {},
   "outputs": [
    {
     "data": {
      "text/plain": [
       "{'No', 'Yes'}"
      ]
     },
     "execution_count": 33,
     "metadata": {},
     "output_type": "execute_result"
    }
   ],
   "source": [
    "# {'No', 'Yes'}"
   ]
  },
  {
   "cell_type": "markdown",
   "metadata": {},
   "source": [
    "Ok so they both have two values.  And remember our thought is that when holiday is `No Holiday`, that functioning day's value is always `Yes`."
   ]
  },
  {
   "cell_type": "code",
   "execution_count": 38,
   "metadata": {},
   "outputs": [
    {
     "data": {
      "text/plain": [
       "['Yes', 'Yes', 'Yes', 'Yes']"
      ]
     },
     "execution_count": 38,
     "metadata": {},
     "output_type": "execute_result"
    }
   ],
   "source": [
    "holidays[:4] \n",
    "# ['No Holiday', 'No Holiday', 'No Holiday', 'No Holiday']\n",
    "functioning_days[:4]\n",
    "# ['Yes', 'Yes', 'Yes', 'Yes']"
   ]
  },
  {
   "cell_type": "markdown",
   "metadata": {},
   "source": [
    "So below, let's check this by creating a list of all of the records where there is a mismatch.  That is where we have:\n",
    "* `No Holiday` and `No`, or\n",
    "* `Holiday` and `Yes`."
   ]
  },
  {
   "cell_type": "code",
   "execution_count": 49,
   "metadata": {},
   "outputs": [
    {
     "data": {
      "text/plain": [
       "[{'Date': '22/12/2017',\n",
       "  'Rented Bike Count': 196,\n",
       "  'Hour': 0,\n",
       "  'Temperature(°C)': -1.7,\n",
       "  'Humidity(%)': 79,\n",
       "  'Wind speed (m/s)': 0.5,\n",
       "  'Visibility (10m)': 794,\n",
       "  'Dew point temperature(°C)': -4.8,\n",
       "  'Solar Radiation (MJ/m2)': 0.0,\n",
       "  'Rainfall(mm)': 0.0,\n",
       "  'Snowfall (cm)': 0.8,\n",
       "  'Seasons': 'Winter',\n",
       "  'Holiday': 'Holiday',\n",
       "  'Functioning Day': 'Yes'}]"
      ]
     },
     "execution_count": 49,
     "metadata": {},
     "output_type": "execute_result"
    }
   ],
   "source": [
    "mismatches = []\n",
    "\n",
    "\n",
    "mismatches[:1]\n",
    "\n",
    "# [{'Date': '22/12/2017', 'Rented Bike Count': 196, 'Hour': 0, 'Temperature(°C)': -1.7, 'Humidity(%)': 79, 'Wind speed (m/s)': 0.5, 'Visibility (10m)': 794, 'Dew point temperature(°C)': -4.8, 'Solar Radiation (MJ/m2)': 0.0, 'Rainfall(mm)': 0.0, 'Snowfall (cm)': 0.8, 'Seasons': 'Winter', 'Holiday': 'Holiday', 'Functioning Day': 'Yes'}]"
   ]
  },
  {
   "cell_type": "markdown",
   "metadata": {},
   "source": [
    "Ok, so we can see that we do have some mismatches.  That is Holiday and Functioning Day do not contain the same information."
   ]
  },
  {
   "cell_type": "markdown",
   "metadata": {},
   "source": [
    "### Checking Representativeness"
   ]
  },
  {
   "cell_type": "markdown",
   "metadata": {},
   "source": [
    "Now that we've used the keys to identify the grain of the data, the next step, we can check the completeness, and the time range that the dataset includes.  "
   ]
  },
  {
   "cell_type": "markdown",
   "metadata": {},
   "source": [
    "* Completeness"
   ]
  },
  {
   "cell_type": "markdown",
   "metadata": {},
   "source": [
    "A good way to determine the completeness of the data is to first make sure that we have records for all seasons.  Assign a set representing the unique seasons to a the variable below."
   ]
  },
  {
   "cell_type": "code",
   "execution_count": 50,
   "metadata": {},
   "outputs": [
    {
     "data": {
      "text/plain": [
       "{'Autumn', 'Spring', 'Summer', 'Winter'}"
      ]
     },
     "execution_count": 50,
     "metadata": {},
     "output_type": "execute_result"
    }
   ],
   "source": [
    "unique_seasons = None\n",
    "unique_seasons"
   ]
  },
  {
   "cell_type": "markdown",
   "metadata": {},
   "source": [
    "Ok, so we do have records from each season.  Let's also find the range of dates that our data spans.  First return the earliest date in the dataset, and then return the latest date in the dataset.  But before we do, let's take a look at the data."
   ]
  },
  {
   "cell_type": "code",
   "execution_count": 59,
   "metadata": {},
   "outputs": [
    {
     "data": {
      "text/plain": [
       "'01/12/2017'"
      ]
     },
     "execution_count": 59,
     "metadata": {},
     "output_type": "execute_result"
    }
   ],
   "source": [
    "bike_hours[1]['Date']"
   ]
  },
  {
   "cell_type": "markdown",
   "metadata": {},
   "source": [
    "Ok, so this is a little tricky, because the data is currently listed as day month year. So if try to sort the data, or use a function like max, it will return results in the wrong order.\n",
    "\n",
    "Let's see this below."
   ]
  },
  {
   "cell_type": "code",
   "execution_count": 62,
   "metadata": {},
   "outputs": [
    {
     "data": {
      "text/plain": [
       "'03/12/2016'"
      ]
     },
     "execution_count": 62,
     "metadata": {},
     "output_type": "execute_result"
    }
   ],
   "source": [
    "max(['03/12/2016', '01/12/2017'])"
   ]
  },
  {
   "cell_type": "markdown",
   "metadata": {},
   "source": [
    "This is because the data is effectively sorted alphabetically, so the string beginning with `03` is larger than the string beginning `01`.  So let's change our data to be `year/month/day`.\n",
    "\n",
    "First perform this for one record."
   ]
  },
  {
   "cell_type": "code",
   "execution_count": 12,
   "metadata": {},
   "outputs": [],
   "source": [
    "sample_date = '03/12/2016'\n",
    "\n",
    "formatted_date = None\n",
    "\n",
    "formatted_date\n",
    "# '2016/12/03'"
   ]
  },
  {
   "cell_type": "markdown",
   "metadata": {},
   "source": [
    "And now create a list that has all of the dates in this format."
   ]
  },
  {
   "cell_type": "code",
   "execution_count": 7,
   "metadata": {},
   "outputs": [
    {
     "data": {
      "text/plain": [
       "['2017/12/01', '2017/12/01', '2017/12/01']"
      ]
     },
     "execution_count": 7,
     "metadata": {},
     "output_type": "execute_result"
    }
   ],
   "source": [
    "formatted_dates = []\n",
    "\n",
    "\n",
    "formatted_dates[:3]"
   ]
  },
  {
   "cell_type": "markdown",
   "metadata": {},
   "source": [
    "And now from here, find the max date."
   ]
  },
  {
   "cell_type": "code",
   "execution_count": 8,
   "metadata": {},
   "outputs": [
    {
     "data": {
      "text/plain": [
       "'2018/11/30'"
      ]
     },
     "execution_count": 8,
     "metadata": {},
     "output_type": "execute_result"
    }
   ],
   "source": [
    "max_date = None\n",
    "max_date"
   ]
  },
  {
   "cell_type": "markdown",
   "metadata": {},
   "source": [
    "And the min date."
   ]
  },
  {
   "cell_type": "code",
   "execution_count": 9,
   "metadata": {},
   "outputs": [
    {
     "data": {
      "text/plain": [
       "'2017/12/01'"
      ]
     },
     "execution_count": 9,
     "metadata": {},
     "output_type": "execute_result"
    }
   ],
   "source": [
    "min_date = None\n",
    "min_date"
   ]
  },
  {
   "cell_type": "markdown",
   "metadata": {},
   "source": [
    "### Summary\n",
    "\n",
    "In this lesson, we moved through some of the steps in exploring and checking a dataset.  \n",
    "\n",
    "We began by identifying *the grain* of the data, to determine what each record represented.  And we then moved onto seeing if some of our attributes represented the same information.  And finally we began to check our dataset for completeness (by exploring the seasons), as well as the recency and range of the data. "
   ]
  }
 ],
 "metadata": {
  "kernelspec": {
   "display_name": "Python 3 (ipykernel)",
   "language": "python",
   "name": "python3"
  },
  "language_info": {
   "codemirror_mode": {
    "name": "ipython",
    "version": 3
   },
   "file_extension": ".py",
   "mimetype": "text/x-python",
   "name": "python",
   "nbconvert_exporter": "python",
   "pygments_lexer": "ipython3",
   "version": "3.11.5"
  }
 },
 "nbformat": 4,
 "nbformat_minor": 4
}
