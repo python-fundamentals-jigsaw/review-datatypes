{
 "cells": [
  {
   "cell_type": "markdown",
   "metadata": {
    "id": "4WicNLBk76cy"
   },
   "source": [
    "# Reviewing List Comprehensions"
   ]
  },
  {
   "cell_type": "markdown",
   "metadata": {
    "id": "LnG2Ja0376c0"
   },
   "source": [
    "### Introduction"
   ]
  },
  {
   "cell_type": "markdown",
   "metadata": {},
   "source": [
    "In this lesson, we'll review list comprehensions.  Let's work with the movies dataset to do so."
   ]
  },
  {
   "cell_type": "markdown",
   "metadata": {
    "id": "6g26xKpf76c1"
   },
   "source": [
    "### From Loops to List Comprehensions"
   ]
  },
  {
   "cell_type": "code",
   "execution_count": null,
   "metadata": {},
   "outputs": [],
   "source": []
  }
 ],
 "metadata": {
  "colab": {
   "provenance": []
  },
  "kernelspec": {
   "display_name": "Python 3 (ipykernel)",
   "language": "python",
   "name": "python3"
  },
  "language_info": {
   "codemirror_mode": {
    "name": "ipython",
    "version": 3
   },
   "file_extension": ".py",
   "mimetype": "text/x-python",
   "name": "python",
   "nbconvert_exporter": "python",
   "pygments_lexer": "ipython3",
   "version": "3.11.5"
  }
 },
 "nbformat": 4,
 "nbformat_minor": 4
}
