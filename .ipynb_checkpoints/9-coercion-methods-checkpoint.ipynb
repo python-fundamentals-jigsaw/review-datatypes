{
 "cells": [
  {
   "cell_type": "markdown",
   "id": "d00e4ef2-2191-4273-90a3-c432346a5145",
   "metadata": {},
   "source": [
    "# Coercion Methods"
   ]
  },
  {
   "cell_type": "markdown",
   "id": "60bba81f-d958-4698-9688-4554e23e9f6f",
   "metadata": {},
   "source": [
    "### Introduction"
   ]
  },
  {
   "cell_type": "markdown",
   "id": "3363e527-bc0a-459f-8e22-4dbbcd082c17",
   "metadata": {},
   "source": [
    "As we move through our review of datatypes, one thing to pay attention to is our methods for changing datatypes.  Let's review them here."
   ]
  },
  {
   "cell_type": "markdown",
   "id": "e4add4e2-976c-40ca-8c24-c6ebf0a99c6c",
   "metadata": {},
   "source": [
    "### Coercing to Lists"
   ]
  },
  {
   "cell_type": "markdown",
   "id": "01481282-f3e1-4f46-9ac7-ddec33695530",
   "metadata": {},
   "source": [
    "Much of the time, we'll be transforming our data into lists.  Let's review some of our mechanisms for doing so."
   ]
  },
  {
   "cell_type": "code",
   "execution_count": 2,
   "id": "00f6165a-f1cd-4199-b6a6-d810d605559f",
   "metadata": {},
   "outputs": [
    {
     "data": {
      "text/plain": [
       "['h', 'e', 'l', 'l', 'o']"
      ]
     },
     "execution_count": 2,
     "metadata": {},
     "output_type": "execute_result"
    }
   ],
   "source": [
    "list('hello')"
   ]
  },
  {
   "cell_type": "markdown",
   "id": "37ff3167-d963-4a98-a630-963571965fd2",
   "metadata": {},
   "source": [
    "You can always try using the `list` constructor to transform your data.  For example, the `list` function transforms each character in the string into an element."
   ]
  },
  {
   "cell_type": "markdown",
   "id": "e10cc7e6-ec6e-4dbe-8456-b106e601b617",
   "metadata": {},
   "source": [
    "And of course, we know split is another way to coerce from string to a list."
   ]
  },
  {
   "cell_type": "code",
   "execution_count": 5,
   "id": "785f4391-fc26-4ae2-b16d-098c2766b19f",
   "metadata": {},
   "outputs": [
    {
     "data": {
      "text/plain": [
       "['4', '25', '2016']"
      ]
     },
     "execution_count": 5,
     "metadata": {},
     "output_type": "execute_result"
    }
   ],
   "source": [
    "'4/25/2016'.split('/')"
   ]
  },
  {
   "cell_type": "markdown",
   "id": "29512718-cf12-42e2-ac4a-324ebb7e4300",
   "metadata": {},
   "source": [
    "> Notice that split removes the character we are splitting on."
   ]
  },
  {
   "cell_type": "markdown",
   "id": "33638b00-c321-4349-a3cc-7de8564a1673",
   "metadata": {},
   "source": [
    "Of course, many of our other collections also can be coerced with the list function."
   ]
  },
  {
   "cell_type": "markdown",
   "id": "7b6c5011-42bc-4663-9fc5-82dedad6d5d6",
   "metadata": {},
   "source": [
    "* set to list"
   ]
  },
  {
   "cell_type": "code",
   "execution_count": 6,
   "id": "3a0d4a4d-f87f-46f3-974a-28bd904c91dd",
   "metadata": {},
   "outputs": [
    {
     "data": {
      "text/plain": [
       "['blue', 'red', 'green']"
      ]
     },
     "execution_count": 6,
     "metadata": {},
     "output_type": "execute_result"
    }
   ],
   "source": [
    "list({'red', 'green', 'blue'})"
   ]
  },
  {
   "cell_type": "markdown",
   "id": "d005450f-f8f4-485c-8a95-c7abdcf58425",
   "metadata": {},
   "source": [
    "* dictionary to list of tuples"
   ]
  },
  {
   "cell_type": "markdown",
   "id": "cb4693e1-af3a-406c-ad8e-344c3feb4f05",
   "metadata": {},
   "source": [
    "> For this, the closest is `{}.items()`"
   ]
  },
  {
   "cell_type": "code",
   "execution_count": 9,
   "id": "40cab7f8-67ec-4b25-ab0f-7df29341d9f9",
   "metadata": {},
   "outputs": [
    {
     "data": {
      "text/plain": [
       "dict_items([('name', 'sam'), ('hometown', 'nyc')])"
      ]
     },
     "execution_count": 9,
     "metadata": {},
     "output_type": "execute_result"
    }
   ],
   "source": [
    "{'name': 'sam', 'hometown': 'nyc'}.items()"
   ]
  },
  {
   "cell_type": "markdown",
   "id": "331d24de-7371-4bf4-87a4-8c36577afaa1",
   "metadata": {},
   "source": [
    "And from there, we can coerce our dict_items object into a list."
   ]
  },
  {
   "cell_type": "code",
   "execution_count": 11,
   "id": "4135c46a-526e-498c-a364-73eb11b1092d",
   "metadata": {},
   "outputs": [
    {
     "data": {
      "text/plain": [
       "[('name', 'sam'), ('hometown', 'nyc')]"
      ]
     },
     "execution_count": 11,
     "metadata": {},
     "output_type": "execute_result"
    }
   ],
   "source": [
    "list({'name': 'sam', 'hometown': 'nyc'}.items())"
   ]
  },
  {
   "cell_type": "markdown",
   "id": "003fb080-0d92-4470-95fa-89716aa4313e",
   "metadata": {},
   "source": [
    "### Coercing to dictionary"
   ]
  },
  {
   "cell_type": "markdown",
   "id": "55892c67-2e52-46a5-9360-4ef3374a456d",
   "metadata": {},
   "source": [
    "So we can coerce a dictionary into a list of tuples.  We can also coerce a list of tuples back into a dictionary."
   ]
  },
  {
   "cell_type": "code",
   "execution_count": 16,
   "id": "d7091f1f-2f45-4443-aea9-a107b0d864e8",
   "metadata": {},
   "outputs": [],
   "source": [
    "person_attrs = [('name', 'sam'), ('hometown', 'nyc')]"
   ]
  },
  {
   "cell_type": "code",
   "execution_count": 17,
   "id": "ce85d675-f6b5-4a8d-a131-6a113839848a",
   "metadata": {},
   "outputs": [
    {
     "data": {
      "text/plain": [
       "{'name': 'sam', 'hometown': 'nyc'}"
      ]
     },
     "execution_count": 17,
     "metadata": {},
     "output_type": "execute_result"
    }
   ],
   "source": [
    "dict(person_attrs)"
   ]
  },
  {
   "cell_type": "markdown",
   "id": "80661b84-6532-40d3-bb12-256ea18acaa8",
   "metadata": {},
   "source": [
    "And we can also generate that list of tuples by zipping together two lists."
   ]
  },
  {
   "cell_type": "code",
   "execution_count": 21,
   "id": "629cb759-7761-4287-96ab-b0d0901182d7",
   "metadata": {},
   "outputs": [
    {
     "data": {
      "text/plain": [
       "[('name', 'sam'), ('hometown', 'nyc')]"
      ]
     },
     "execution_count": 21,
     "metadata": {},
     "output_type": "execute_result"
    }
   ],
   "source": [
    "keys = ['name', 'hometown']\n",
    "\n",
    "sam_vals = ['sam', 'nyc']\n",
    "\n",
    "list(zip(keys, sam_vals))"
   ]
  },
  {
   "cell_type": "markdown",
   "id": "68ca0df8-21f3-4521-a320-a63300cd2954",
   "metadata": {},
   "source": [
    "And from there can convert the zipped object into a dictionary."
   ]
  },
  {
   "cell_type": "code",
   "execution_count": 22,
   "id": "1451cc03-450f-41e0-93b6-a35cf40c5d50",
   "metadata": {},
   "outputs": [
    {
     "data": {
      "text/plain": [
       "{'name': 'sam', 'hometown': 'nyc'}"
      ]
     },
     "execution_count": 22,
     "metadata": {},
     "output_type": "execute_result"
    }
   ],
   "source": [
    "dict(zip(keys, sam_vals))"
   ]
  },
  {
   "cell_type": "markdown",
   "id": "112911b5-53da-45c5-9d77-289bba3c0105",
   "metadata": {},
   "source": [
    "* Sometimes, we may want to loop through a list of values."
   ]
  },
  {
   "cell_type": "code",
   "execution_count": 26,
   "id": "d7b2ea6c-f8db-4488-a1c7-66d76be38168",
   "metadata": {},
   "outputs": [],
   "source": [
    "customer_attrs = [['sam', 'nyc'], ['lisa', 'chicago'], ['arnold', 'la']]"
   ]
  },
  {
   "cell_type": "code",
   "execution_count": 30,
   "id": "c79051fb-c3dd-4bd0-b185-42b1e0b7abc6",
   "metadata": {},
   "outputs": [
    {
     "data": {
      "text/plain": [
       "[{'name': 'sam', 'hometown': 'nyc'},\n",
       " {'name': 'lisa', 'hometown': 'chicago'},\n",
       " {'name': 'arnold', 'hometown': 'la'}]"
      ]
     },
     "execution_count": 30,
     "metadata": {},
     "output_type": "execute_result"
    }
   ],
   "source": [
    "customer_keys = ['name', 'hometown']\n",
    "\n",
    "customers = []\n",
    "for customer_attr in customer_attrs:\n",
    "    customer = dict(zip(keys, customer_attr))\n",
    "    customers.append(customer)\n",
    "customers"
   ]
  },
  {
   "cell_type": "markdown",
   "id": "e1efda40-6623-4ac4-b971-d312464ea878",
   "metadata": {},
   "source": [
    "Or with list comprehension."
   ]
  },
  {
   "cell_type": "code",
   "execution_count": 33,
   "id": "326488ee-d6be-4803-98a1-bbf2b1278701",
   "metadata": {},
   "outputs": [
    {
     "data": {
      "text/plain": [
       "[{'name': 'sam', 'hometown': 'nyc'},\n",
       " {'name': 'lisa', 'hometown': 'chicago'},\n",
       " {'name': 'arnold', 'hometown': 'la'}]"
      ]
     },
     "execution_count": 33,
     "metadata": {},
     "output_type": "execute_result"
    }
   ],
   "source": [
    "customer_keys = ['name', 'hometown']\n",
    "\n",
    "customers = [dict(zip(keys, customer_attr)) \n",
    "             for customer_attr in customer_attrs]\n",
    "customers"
   ]
  },
  {
   "cell_type": "markdown",
   "id": "3d2b0ae3-4bb4-4488-aaa8-1b18f239e729",
   "metadata": {},
   "source": [
    "### Challenge"
   ]
  },
  {
   "cell_type": "markdown",
   "id": "187cd520-fc1f-47e9-8b4c-76bd3e98158e",
   "metadata": {},
   "source": [
    "Now from the list of dictionaries of above, to a list of strings, where each string is in the format of `name is _ and hometown is _`."
   ]
  },
  {
   "cell_type": "code",
   "execution_count": 44,
   "id": "3eaebd69-9d3c-42fa-81a2-0c5a429592e9",
   "metadata": {},
   "outputs": [
    {
     "data": {
      "text/plain": [
       "['name is sam and hometown is nyc',\n",
       " 'name is lisa and hometown is chicago',\n",
       " 'name is arnold and hometown is la']"
      ]
     },
     "execution_count": 44,
     "metadata": {},
     "output_type": "execute_result"
    }
   ],
   "source": [
    "\n",
    "\n",
    "# ['name is sam and hometown is nyc',\n",
    "#  'name is lisa and hometown is chicago',\n",
    "#  'name is arnold and hometown is la']"
   ]
  }
 ],
 "metadata": {
  "kernelspec": {
   "display_name": "Python 3 (ipykernel)",
   "language": "python",
   "name": "python3"
  },
  "language_info": {
   "codemirror_mode": {
    "name": "ipython",
    "version": 3
   },
   "file_extension": ".py",
   "mimetype": "text/x-python",
   "name": "python",
   "nbconvert_exporter": "python",
   "pygments_lexer": "ipython3",
   "version": "3.9.12"
  }
 },
 "nbformat": 4,
 "nbformat_minor": 5
}
