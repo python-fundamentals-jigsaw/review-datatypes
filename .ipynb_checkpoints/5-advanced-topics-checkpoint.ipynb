{
 "cells": [
  {
   "cell_type": "code",
   "execution_count": null,
   "id": "37a62104-3f0e-4fe0-8bb9-22f315d0b839",
   "metadata": {},
   "outputs": [],
   "source": []
  },
  {
   "cell_type": "markdown",
   "id": "0b3106dd-b934-4a79-9d28-4d28ac399652",
   "metadata": {},
   "source": [
    "* list comprehension\n",
    "* `zip` together data\n",
    "* `dict.items()`\n",
    "* select only certain key value pairs of data "
   ]
  },
  {
   "cell_type": "code",
   "execution_count": null,
   "id": "1b8a594a-3fa5-4934-aa0b-25a0579d00df",
   "metadata": {},
   "outputs": [],
   "source": []
  }
 ],
 "metadata": {
  "kernelspec": {
   "display_name": "Python 3 (ipykernel)",
   "language": "python",
   "name": "python3"
  },
  "language_info": {
   "codemirror_mode": {
    "name": "ipython",
    "version": 3
   },
   "file_extension": ".py",
   "mimetype": "text/x-python",
   "name": "python",
   "nbconvert_exporter": "python",
   "pygments_lexer": "ipython3",
   "version": "3.11.5"
  }
 },
 "nbformat": 4,
 "nbformat_minor": 5
}
