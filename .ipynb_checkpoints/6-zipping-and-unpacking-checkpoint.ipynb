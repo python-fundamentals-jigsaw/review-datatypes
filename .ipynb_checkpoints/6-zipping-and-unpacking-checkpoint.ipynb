{
 "cells": [
  {
   "cell_type": "markdown",
   "id": "0b006dc6-cc49-42a0-8500-06924e1e50df",
   "metadata": {},
   "source": [
    "# Zipping and Unpacking Data"
   ]
  },
  {
   "cell_type": "markdown",
   "id": "fb82506f-93e0-4810-9a54-cb3a434cfca2",
   "metadata": {},
   "source": [
    "### Introduction"
   ]
  },
  {
   "cell_type": "markdown",
   "id": "ed7cbca0-51a9-4292-affa-0547e097a92d",
   "metadata": {},
   "source": [
    "In the last few lessons we saw how we can select coerce and filter our data with list comprehensions.  In this lesson, we'll see how we can create new data structures with those lists with the zip function, and unpack that data.  \n",
    "\n",
    "Finally, we'll review unpacking key value pairs of dictionaries."
   ]
  },
  {
   "cell_type": "markdown",
   "id": "ea861416-426a-4453-9555-bcbeaef7eff3",
   "metadata": {},
   "source": [
    "### Loading our data"
   ]
  },
  {
   "cell_type": "markdown",
   "id": "80ef5f7a-587a-47ec-8aae-162f82f56852",
   "metadata": {},
   "source": [
    "Let's work with our movies dataset again."
   ]
  },
  {
   "cell_type": "code",
   "execution_count": 1,
   "id": "c56f7c9f-206c-47a1-8b81-6c817a137f5f",
   "metadata": {},
   "outputs": [],
   "source": [
    "import pandas as pd\n",
    "movies_df = pd.read_csv(\"https://raw.githubusercontent.com/jigsawlabs-student/tech-interview/main/movies.csv\")\n",
    "\n",
    "movies = movies_df.to_dict('records')"
   ]
  },
  {
   "cell_type": "code",
   "execution_count": 2,
   "id": "20e054b2-2507-4f87-945a-d080928c50f9",
   "metadata": {},
   "outputs": [
    {
     "data": {
      "text/plain": [
       "[{'title': 'Oliver Twist',\n",
       "  'genre': 'Crime',\n",
       "  'budget': 50000000,\n",
       "  'runtime': 130.0,\n",
       "  'year': 2005,\n",
       "  'month': 9,\n",
       "  'revenue': 42093706}]"
      ]
     },
     "execution_count": 2,
     "metadata": {},
     "output_type": "execute_result"
    }
   ],
   "source": [
    "movies[:1]"
   ]
  },
  {
   "cell_type": "markdown",
   "id": "9aa8f82e-b0ba-41d9-a8ac-31a48e3d88ef",
   "metadata": {},
   "source": [
    "Ok, so as we know, we can select different attributes from our list of dictionaries with the following."
   ]
  },
  {
   "cell_type": "code",
   "execution_count": 4,
   "id": "5b8d62e4-8d09-4c36-afdc-b3cb204010b3",
   "metadata": {},
   "outputs": [
    {
     "data": {
      "text/plain": [
       "['Crime', 'Science Fiction', 'Comedy']"
      ]
     },
     "execution_count": 4,
     "metadata": {},
     "output_type": "execute_result"
    }
   ],
   "source": [
    "titles = [movie['title'] for movie in movies]\n",
    "\n",
    "genres = [movie['genre'] for movie in movies]\n",
    "genres[:3]"
   ]
  },
  {
   "cell_type": "markdown",
   "id": "3c12a207-3e9c-4e68-8d62-1c33783b0041",
   "metadata": {},
   "source": [
    "Ok, now after creating lists of these genres, we may want to pair these lists together.  We can do so with zip."
   ]
  },
  {
   "cell_type": "code",
   "execution_count": 5,
   "id": "a4273498-0d91-42fd-baea-77a3302c904a",
   "metadata": {},
   "outputs": [
    {
     "data": {
      "text/plain": [
       "<zip at 0x1062a49c0>"
      ]
     },
     "execution_count": 5,
     "metadata": {},
     "output_type": "execute_result"
    }
   ],
   "source": [
    "zip(titles, genres)"
   ]
  },
  {
   "cell_type": "code",
   "execution_count": 6,
   "id": "076f08e7-1e31-4e9b-b7f9-fc49014f4027",
   "metadata": {},
   "outputs": [
    {
     "data": {
      "text/plain": [
       "[('Oliver Twist', 'Crime'),\n",
       " ('X-Men: Apocalypse', 'Science Fiction'),\n",
       " ('Man on the Moon', 'Comedy')]"
      ]
     },
     "execution_count": 6,
     "metadata": {},
     "output_type": "execute_result"
    }
   ],
   "source": [
    "zipped_attrs = list(zip(titles, genres))\n",
    "\n",
    "zipped_attrs[:3]"
   ]
  },
  {
   "cell_type": "markdown",
   "id": "a2356fe7-eb96-4a36-b7f0-6adaa44c8030",
   "metadata": {},
   "source": [
    "Ok, so you can see that zip paired our lists of titles and genres together, and returns a list with each element being a tuple."
   ]
  },
  {
   "cell_type": "code",
   "execution_count": 7,
   "id": "ed4a951b-0850-448a-b86c-6d0f11d79db5",
   "metadata": {},
   "outputs": [
    {
     "data": {
      "text/plain": [
       "('Oliver Twist', 'Crime')"
      ]
     },
     "execution_count": 7,
     "metadata": {},
     "output_type": "execute_result"
    }
   ],
   "source": [
    "zipped_attrs[0]"
   ]
  },
  {
   "cell_type": "markdown",
   "id": "cc0740c0-1ec0-44b3-a760-0d69416643cb",
   "metadata": {},
   "source": [
    "> A tuple is just like a list -- only that it's immutable (so we cannot append or pop from it)."
   ]
  },
  {
   "cell_type": "code",
   "execution_count": 8,
   "id": "548cd764-00b3-4647-9a63-4dc7df8bae6b",
   "metadata": {},
   "outputs": [
    {
     "ename": "AttributeError",
     "evalue": "'tuple' object has no attribute 'append'",
     "output_type": "error",
     "traceback": [
      "\u001b[0;31m---------------------------------------------------------------------------\u001b[0m",
      "\u001b[0;31mAttributeError\u001b[0m                            Traceback (most recent call last)",
      "Cell \u001b[0;32mIn[8], line 1\u001b[0m\n\u001b[0;32m----> 1\u001b[0m \u001b[43mzipped_attrs\u001b[49m\u001b[43m[\u001b[49m\u001b[38;5;241;43m0\u001b[39;49m\u001b[43m]\u001b[49m\u001b[38;5;241;43m.\u001b[39;49m\u001b[43mappend\u001b[49m(\u001b[38;5;124m'\u001b[39m\u001b[38;5;124mOk\u001b[39m\u001b[38;5;124m'\u001b[39m)\n",
      "\u001b[0;31mAttributeError\u001b[0m: 'tuple' object has no attribute 'append'"
     ]
    }
   ],
   "source": [
    "zipped_attrs[0].append('Ok')"
   ]
  },
  {
   "cell_type": "markdown",
   "id": "08b0a210-ebc9-48da-9e3b-9e4220906d63",
   "metadata": {},
   "source": [
    "### Working with zipped data"
   ]
  },
  {
   "cell_type": "markdown",
   "id": "73f8ffbd-4c86-42e1-9dac-200d48306cbe",
   "metadata": {},
   "source": [
    "Ok, so now let's take another look at our zipped data -- how does this help us?"
   ]
  },
  {
   "cell_type": "code",
   "execution_count": 10,
   "id": "a461a5c2-0653-4df1-8683-3d0574445a9d",
   "metadata": {},
   "outputs": [
    {
     "data": {
      "text/plain": [
       "[('Oliver Twist', 'Crime'),\n",
       " ('X-Men: Apocalypse', 'Science Fiction'),\n",
       " ('Man on the Moon', 'Comedy')]"
      ]
     },
     "execution_count": 10,
     "metadata": {},
     "output_type": "execute_result"
    }
   ],
   "source": [
    "zipped_attrs[:3]"
   ]
  },
  {
   "cell_type": "markdown",
   "id": "1f8d5cd3-0b00-4a22-919e-6e37112055ff",
   "metadata": {},
   "source": [
    "Well one way is that is simply reduced our data to just some of the attributes we may be interested in.  "
   ]
  },
  {
   "cell_type": "markdown",
   "id": "996c8ec4-7ede-4758-b350-d916fbc21732",
   "metadata": {},
   "source": [
    "* Iterating through our data"
   ]
  },
  {
   "cell_type": "markdown",
   "id": "65b6a246-95a2-4255-b05f-66325acb6342",
   "metadata": {},
   "source": [
    "If we loop through our list of tuples, remember that each element is a tuple. "
   ]
  },
  {
   "cell_type": "code",
   "execution_count": 11,
   "id": "25c71d23-6edc-4db4-9d2e-97bf64f25213",
   "metadata": {},
   "outputs": [
    {
     "name": "stdout",
     "output_type": "stream",
     "text": [
      "('Oliver Twist', 'Crime')\n",
      "('X-Men: Apocalypse', 'Science Fiction')\n",
      "('Man on the Moon', 'Comedy')\n"
     ]
    }
   ],
   "source": [
    "# we  slice the first three elements to make it easier to see\n",
    "for zipped_attr in zipped_attrs[:3]:\n",
    "    print(zipped_attr)"
   ]
  },
  {
   "cell_type": "markdown",
   "id": "495642b4-a0b2-4338-858e-58d34cfc22f0",
   "metadata": {},
   "source": [
    "So above, `zipped_attr` represents the entire tuple."
   ]
  },
  {
   "cell_type": "markdown",
   "id": "bbde6760-620a-4c3a-b2af-bb54b787e081",
   "metadata": {},
   "source": [
    "And if we can unpack each element into title and genre.  "
   ]
  },
  {
   "cell_type": "code",
   "execution_count": 16,
   "id": "dd5a836f-6567-4b56-8cd9-26d626eed90d",
   "metadata": {},
   "outputs": [
    {
     "name": "stdout",
     "output_type": "stream",
     "text": [
      "[('Oliver Twist', 'Crime'), ('X-Men: Apocalypse', 'Science Fiction'), ('Man on the Moon', 'Comedy')]\n"
     ]
    }
   ],
   "source": [
    "print(zipped_attrs[:3])"
   ]
  },
  {
   "cell_type": "code",
   "execution_count": 14,
   "id": "e011b811-af5b-4e03-9aa5-361c791772fc",
   "metadata": {},
   "outputs": [
    {
     "name": "stdout",
     "output_type": "stream",
     "text": [
      "Oliver Twist , Crime\n",
      "X-Men: Apocalypse , Science Fiction\n",
      "Man on the Moon , Comedy\n"
     ]
    }
   ],
   "source": [
    "for title, genre in zipped_attrs[:3]:\n",
    "    print(title, ',', genre)"
   ]
  },
  {
   "cell_type": "markdown",
   "id": "c000ec7c-b56a-41a6-9496-52b0246b3c7f",
   "metadata": {},
   "source": [
    "So above, you can see that we have two block variables `title`, and `genre`, and that we go through each tuple, unpacking each one into the components of title and genre."
   ]
  },
  {
   "cell_type": "markdown",
   "id": "4e1e27b4-5e92-4086-bdf0-40d2b9df3e5d",
   "metadata": {},
   "source": [
    "Now, above we are simply printing out the title and genre.  But we can imagine taking those values and creating new dictionaries from them."
   ]
  },
  {
   "cell_type": "code",
   "execution_count": 18,
   "id": "c9514e99-a155-4e81-aa27-8a6e63248529",
   "metadata": {},
   "outputs": [
    {
     "data": {
      "text/plain": [
       "[{'title': 'Oliver Twist', 'genre': 'Crime'},\n",
       " {'title': 'X-Men: Apocalypse', 'genre': 'Science Fiction'},\n",
       " {'title': 'Man on the Moon', 'genre': 'Comedy'}]"
      ]
     },
     "execution_count": 18,
     "metadata": {},
     "output_type": "execute_result"
    }
   ],
   "source": [
    "condensed_movies = []\n",
    "\n",
    "for title, genre in zipped_attrs:\n",
    "    condensed_movie = {'title': title, 'genre': genre}\n",
    "    condensed_movies.append(condensed_movie)\n",
    "\n",
    "condensed_movies[:3]"
   ]
  },
  {
   "cell_type": "markdown",
   "id": "6e6cdfc4-7b4a-4b98-9679-2166f1fed588",
   "metadata": {},
   "source": [
    "### Unpacking with dictionaries"
   ]
  },
  {
   "cell_type": "markdown",
   "id": "c3ac453c-f7fb-4989-be61-e2f1a5de7e75",
   "metadata": {},
   "source": [
    "Above we saw how to unpack our list of tuples:\n",
    "```python\n",
    "zipped_attrs = [('Oliver Twist', 'Crime'), ('X-Men: Apocalypse', 'Science Fiction')]\n",
    "```\n",
    "With our line of:\n",
    "\n",
    "```python\n",
    "for title, genre in zipped_attrs:\n",
    "```"
   ]
  },
  {
   "cell_type": "markdown",
   "id": "96710fd7-1493-41cf-bfce-783d77f37b15",
   "metadata": {},
   "source": [
    "But we can also use this to unpack key value pairs in a dictionary.  You may be able to understand how if we look at our return value of calling dict.items().\n",
    "\n",
    "For example, let's call `.items()` on our first movie, and then coerce it into a list."
   ]
  },
  {
   "cell_type": "code",
   "execution_count": 20,
   "id": "6fa8b520-c441-4534-8ef3-0e060c36ba4c",
   "metadata": {},
   "outputs": [
    {
     "data": {
      "text/plain": [
       "[('title', 'Oliver Twist'),\n",
       " ('genre', 'Crime'),\n",
       " ('budget', 50000000),\n",
       " ('runtime', 130.0),\n",
       " ('year', 2005),\n",
       " ('month', 9),\n",
       " ('revenue', 42093706)]"
      ]
     },
     "execution_count": 20,
     "metadata": {},
     "output_type": "execute_result"
    }
   ],
   "source": [
    "first_movie = movies[0]\n",
    "\n",
    "list(first_movie.items())"
   ]
  },
  {
   "cell_type": "markdown",
   "id": "1573960d-5abf-41bb-89d3-4ded777998ab",
   "metadata": {},
   "source": [
    "So you can see that we are back to a list of tuples.  And just like before, we can go through each individual tuple, unpacking each one along the way.\n",
    "\n",
    "This time, notice that the first element of each tuple is the key and the second element is the value.  So in unpacking we use variables `k` and `v`."
   ]
  },
  {
   "cell_type": "code",
   "execution_count": 23,
   "id": "a594b5c5-9882-405b-bb8f-d69481aca123",
   "metadata": {},
   "outputs": [
    {
     "name": "stdout",
     "output_type": "stream",
     "text": [
      "[('title', 'Oliver Twist'), ('genre', 'Crime'), ('budget', 50000000), ('runtime', 130.0), ('year', 2005), ('month', 9), ('revenue', 42093706)]\n"
     ]
    }
   ],
   "source": [
    "first_movie = movies[0]\n",
    "\n",
    "movie_items = list(first_movie.items())\n",
    "print(movie_items)"
   ]
  },
  {
   "cell_type": "code",
   "execution_count": 24,
   "id": "92abb8e9-d8ef-48c6-839c-ac6a00bd1df6",
   "metadata": {},
   "outputs": [
    {
     "name": "stdout",
     "output_type": "stream",
     "text": [
      "title Oliver Twist\n",
      "genre Crime\n",
      "budget 50000000\n",
      "runtime 130.0\n",
      "year 2005\n",
      "month 9\n",
      "revenue 42093706\n"
     ]
    }
   ],
   "source": [
    "for k, v in movie_items:\n",
    "    print(k, v)"
   ]
  },
  {
   "cell_type": "markdown",
   "id": "e062d26c-7041-463c-851c-1ea38a8be003",
   "metadata": {},
   "source": [
    "So above, we move through each tuple, unpacking into a key and value for each."
   ]
  },
  {
   "cell_type": "markdown",
   "id": "a86c726d-8e52-4695-8b14-e70900e9bf6e",
   "metadata": {},
   "source": [
    "If we want, we can select certain attributes from here. "
   ]
  },
  {
   "cell_type": "code",
   "execution_count": 26,
   "id": "709cc394-0d76-4072-9af4-5a6ee1b8090d",
   "metadata": {},
   "outputs": [
    {
     "data": {
      "text/plain": [
       "[('genre', 'Crime'), ('budget', 50000000)]"
      ]
     },
     "execution_count": 26,
     "metadata": {},
     "output_type": "execute_result"
    }
   ],
   "source": [
    "selected_tuples = []\n",
    "for k, v in movie_items:\n",
    "    if k == 'budget' or k == 'genre':\n",
    "        attr = (k, v)\n",
    "        selected_tuples.append(attr)\n",
    "selected_tuples"
   ]
  },
  {
   "cell_type": "markdown",
   "id": "81de236b-32c1-4689-aa36-d6e20d541677",
   "metadata": {},
   "source": [
    "And then we convert that list of tuples back into a dictionary."
   ]
  },
  {
   "cell_type": "code",
   "execution_count": 27,
   "id": "0797ec50-2990-407b-8130-ed2f9f73ce03",
   "metadata": {},
   "outputs": [
    {
     "data": {
      "text/plain": [
       "{'genre': 'Crime', 'budget': 50000000}"
      ]
     },
     "execution_count": 27,
     "metadata": {},
     "output_type": "execute_result"
    }
   ],
   "source": [
    "dict(selected_tuples)"
   ]
  },
  {
   "cell_type": "markdown",
   "id": "3271f4ef-4b81-4df9-8d68-506814238b40",
   "metadata": {},
   "source": [
    "### Summary"
   ]
  },
  {
   "cell_type": "markdown",
   "id": "dd0de1bd-920e-42cd-8060-6a1c05289a1d",
   "metadata": {},
   "source": [
    "In this lesson, we saw how to pair our data into a list of tuples with the zip method."
   ]
  },
  {
   "cell_type": "code",
   "execution_count": 28,
   "id": "eac7f73b-8123-4996-a008-3947a7aa3622",
   "metadata": {},
   "outputs": [
    {
     "data": {
      "text/plain": [
       "[('Oliver Twist', 'Crime'), ('X-Men: Apocalypse', 'Science Fiction')]"
      ]
     },
     "execution_count": 28,
     "metadata": {},
     "output_type": "execute_result"
    }
   ],
   "source": [
    "zipped_attrs = list(zip(titles, genres))\n",
    "zipped_attrs[:2]"
   ]
  },
  {
   "cell_type": "markdown",
   "id": "834c0a46-04a6-43ed-919c-aa5c15d4fa9a",
   "metadata": {},
   "source": [
    "From there, we saw how we can iterate through each tuple, unpacking each tuple along the way."
   ]
  },
  {
   "cell_type": "code",
   "execution_count": 29,
   "id": "ebfb08aa-a24c-4052-b195-1c4e7b731e31",
   "metadata": {},
   "outputs": [
    {
     "name": "stdout",
     "output_type": "stream",
     "text": [
      "Oliver Twist Crime\n",
      "X-Men: Apocalypse Science Fiction\n"
     ]
    }
   ],
   "source": [
    "for title, genre in zipped_attrs[:2]:\n",
    "    print(title, genre)"
   ]
  },
  {
   "cell_type": "markdown",
   "id": "100f1e90-8c93-44c1-a75f-1871f3a274ee",
   "metadata": {},
   "source": [
    "We then moved onto dictionaries, and noticed that if we call .items(), this also returns something akin to a list of tuples.  And so we can unpack these key value pairs as well."
   ]
  },
  {
   "cell_type": "code",
   "execution_count": null,
   "id": "b7fc20dc-1bba-4b40-9b8c-2ddf1d2814e8",
   "metadata": {},
   "outputs": [],
   "source": []
  }
 ],
 "metadata": {
  "kernelspec": {
   "display_name": "Python 3 (ipykernel)",
   "language": "python",
   "name": "python3"
  },
  "language_info": {
   "codemirror_mode": {
    "name": "ipython",
    "version": 3
   },
   "file_extension": ".py",
   "mimetype": "text/x-python",
   "name": "python",
   "nbconvert_exporter": "python",
   "pygments_lexer": "ipython3",
   "version": "3.11.5"
  }
 },
 "nbformat": 4,
 "nbformat_minor": 5
}
