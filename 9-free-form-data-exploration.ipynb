{
 "cells": [
  {
   "cell_type": "markdown",
   "id": "98b40c1f-566a-4b03-8b65-ea3687f8bf9a",
   "metadata": {},
   "source": [
    "# Free Form Data Exploration"
   ]
  },
  {
   "cell_type": "markdown",
   "id": "794574f6-ef2a-40df-80fa-61d8a8515bb4",
   "metadata": {},
   "source": [
    "### Introduction"
   ]
  },
  {
   "cell_type": "markdown",
   "id": "1c90dd20-51e2-4e2b-832a-34da43147200",
   "metadata": {},
   "source": [
    "Here, we'll provide you a dataset, but will take off some of the guardrails in how you explore and work through the data."
   ]
  },
  {
   "cell_type": "code",
   "execution_count": 1,
   "id": "5546bfb0-1fc4-44e2-b045-c28a48f9fb67",
   "metadata": {},
   "outputs": [],
   "source": [
    "### "
   ]
  },
  {
   "cell_type": "code",
   "execution_count": null,
   "id": "eaf48b3c-7c42-4168-a2ca-5fe01dfd29ba",
   "metadata": {},
   "outputs": [],
   "source": []
  }
 ],
 "metadata": {
  "kernelspec": {
   "display_name": "Python 3 (ipykernel)",
   "language": "python",
   "name": "python3"
  },
  "language_info": {
   "codemirror_mode": {
    "name": "ipython",
    "version": 3
   },
   "file_extension": ".py",
   "mimetype": "text/x-python",
   "name": "python",
   "nbconvert_exporter": "python",
   "pygments_lexer": "ipython3",
   "version": "3.11.5"
  }
 },
 "nbformat": 4,
 "nbformat_minor": 5
}
