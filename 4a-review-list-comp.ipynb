{
 "cells": [
  {
   "cell_type": "markdown",
   "metadata": {
    "id": "4WicNLBk76cy"
   },
   "source": [
    "# Reviewing List Comprehensions"
   ]
  },
  {
   "cell_type": "markdown",
   "metadata": {
    "id": "LnG2Ja0376c0"
   },
   "source": [
    "### Introduction"
   ]
  },
  {
   "cell_type": "markdown",
   "metadata": {},
   "source": [
    "In this lesson, we'll review list comprehensions.  Let's work with the movies dataset to do so."
   ]
  },
  {
   "cell_type": "markdown",
   "metadata": {
    "id": "6g26xKpf76c1"
   },
   "source": [
    "### Loading the data"
   ]
  },
  {
   "cell_type": "code",
   "execution_count": 2,
   "metadata": {},
   "outputs": [],
   "source": [
    "import pandas as pd\n",
    "movies_df = pd.read_csv(\"https://raw.githubusercontent.com/jigsawlabs-student/tech-interview/main/movies.csv\")\n",
    "\n",
    "movies = movies_df.to_dict('records')"
   ]
  },
  {
   "cell_type": "markdown",
   "metadata": {},
   "source": [
    "And now let's look at our data."
   ]
  },
  {
   "cell_type": "code",
   "execution_count": 7,
   "metadata": {},
   "outputs": [
    {
     "data": {
      "text/plain": [
       "[{'title': 'Oliver Twist',\n",
       "  'genre': 'Crime',\n",
       "  'budget': 50000000,\n",
       "  'runtime': 130.0,\n",
       "  'year': 2005,\n",
       "  'month': 9,\n",
       "  'revenue': 42093706}]"
      ]
     },
     "execution_count": 7,
     "metadata": {},
     "output_type": "execute_result"
    }
   ],
   "source": [
    "movies[:1]"
   ]
  },
  {
   "cell_type": "markdown",
   "metadata": {},
   "source": [
    "Ok, so movies is a list of dictionaries with attributes describing each movie."
   ]
  },
  {
   "cell_type": "markdown",
   "metadata": {},
   "source": [
    "### Loops to List Comprehension"
   ]
  },
  {
   "cell_type": "markdown",
   "metadata": {},
   "source": [
    "Now, as we know we can select attributes from our list of dictionaries with something like the following:\n",
    "\n",
    "> Below we select each movie's title."
   ]
  },
  {
   "cell_type": "code",
   "execution_count": 9,
   "metadata": {},
   "outputs": [
    {
     "data": {
      "text/plain": [
       "['Oliver Twist', 'X-Men: Apocalypse', 'Man on the Moon']"
      ]
     },
     "execution_count": 9,
     "metadata": {},
     "output_type": "execute_result"
    }
   ],
   "source": [
    "titles = []\n",
    "# block variable, input_list\n",
    "for movie in movies:\n",
    "    title = movie['title'] # each_output\n",
    "    titles.append(title)\n",
    "titles[:3]"
   ]
  },
  {
   "cell_type": "markdown",
   "metadata": {},
   "source": [
    "And now if we move to using list comprehension, we can do the following:"
   ]
  },
  {
   "cell_type": "code",
   "execution_count": 17,
   "metadata": {},
   "outputs": [
    {
     "data": {
      "text/plain": [
       "['Oliver Twist', 'X-Men: Apocalypse', 'Man on the Moon', 'The Tree of Life']"
      ]
     },
     "execution_count": 17,
     "metadata": {},
     "output_type": "execute_result"
    }
   ],
   "source": [
    "titles = [movie['title'] for movie in movies]\n",
    "### each_output    block_var, input_list \n",
    "\n",
    "titles[:4]"
   ]
  },
  {
   "cell_type": "markdown",
   "metadata": {},
   "source": [
    "So this is very useful, because we essentially just look at the very beginning of the list comprehension to see the login our for loop."
   ]
  },
  {
   "cell_type": "markdown",
   "metadata": {},
   "source": [
    "> Tip: when writing the list comprehension, it's often easier if you leave the logic for the end. \n",
    "\n",
    "For example, below see how we select the revenue of each movie."
   ]
  },
  {
   "cell_type": "code",
   "execution_count": null,
   "metadata": {},
   "outputs": [],
   "source": [
    "# 1. write the loop component\n",
    "# revenues = [... for movie in movies]\n",
    "\n",
    "# 2. Fill in the logic\n",
    "# revenues = [movie['revenue'] for movie in movies]"
   ]
  },
  {
   "cell_type": "markdown",
   "metadata": {},
   "source": [
    "Now it's your turn.  "
   ]
  },
  {
   "cell_type": "markdown",
   "metadata": {},
   "source": [
    "Use a list comprehension to coerce our data.  Some of our titles are a mix of uppercase and lowercase values.  Below, use a list comprehension to `title` each of the movies."
   ]
  },
  {
   "cell_type": "code",
   "execution_count": 18,
   "metadata": {},
   "outputs": [
    {
     "data": {
      "text/plain": [
       "['Oliver Twist', 'X-Men: Apocalypse', 'Man On The Moon', 'The Tree Of Life']"
      ]
     },
     "execution_count": 18,
     "metadata": {},
     "output_type": "execute_result"
    }
   ],
   "source": [
    "upper_titles = [movie['title'].title() for movie in movies]\n",
    "\n",
    "upper_titles[:4]\n",
    "\n",
    "# ['Oliver Twist', 'X-Men: Apocalypse', 'Man On The Moon', 'The Tree Of Life']"
   ]
  },
  {
   "cell_type": "markdown",
   "metadata": {},
   "source": [
    "When performing a list comprehension, it's still useful to try implementing the logic for a single record before performing for all of the records.\n",
    "\n",
    "For example, let's say that we want to change the movie data to round to the nearest thousand.  We can first try to accomplish it for one movie."
   ]
  },
  {
   "cell_type": "code",
   "execution_count": 32,
   "metadata": {},
   "outputs": [
    {
     "data": {
      "text/plain": [
       "543934787"
      ]
     },
     "execution_count": 32,
     "metadata": {},
     "output_type": "execute_result"
    }
   ],
   "source": [
    "first_movie = movies[1]\n",
    "first_movie['revenue']"
   ]
  },
  {
   "cell_type": "code",
   "execution_count": 27,
   "metadata": {},
   "outputs": [
    {
     "data": {
      "text/plain": [
       "543934.787"
      ]
     },
     "execution_count": 27,
     "metadata": {},
     "output_type": "execute_result"
    }
   ],
   "source": [
    "first_movie = movies[1]\n",
    "\n",
    "first_movie['revenue']/1000 # divide by 1000"
   ]
  },
  {
   "cell_type": "markdown",
   "metadata": {},
   "source": [
    "* Round to zero decimals"
   ]
  },
  {
   "cell_type": "code",
   "execution_count": 29,
   "metadata": {},
   "outputs": [
    {
     "data": {
      "text/plain": [
       "543935.0"
      ]
     },
     "execution_count": 29,
     "metadata": {},
     "output_type": "execute_result"
    }
   ],
   "source": [
    "round(first_movie['revenue']/1000, 0)"
   ]
  },
  {
   "cell_type": "markdown",
   "metadata": {},
   "source": [
    "* And then multiply back by 1000, and coerce to an integer"
   ]
  },
  {
   "cell_type": "code",
   "execution_count": 33,
   "metadata": {},
   "outputs": [
    {
     "data": {
      "text/plain": [
       "543935000"
      ]
     },
     "execution_count": 33,
     "metadata": {},
     "output_type": "execute_result"
    }
   ],
   "source": [
    "int(round(first_movie['revenue']/1000, 0)*1000)\n",
    "\n",
    "# previously was 543934787, and now is 543935000"
   ]
  },
  {
   "cell_type": "markdown",
   "metadata": {},
   "source": [
    "Ok, so now below, return a list of all of our movie revenue, rounded to the nearest thousand."
   ]
  },
  {
   "cell_type": "code",
   "execution_count": 36,
   "metadata": {},
   "outputs": [
    {
     "data": {
      "text/plain": [
       "[42094000, 543935000, 47434000, 54674000, 527069000]"
      ]
     },
     "execution_count": 36,
     "metadata": {},
     "output_type": "execute_result"
    }
   ],
   "source": [
    "rounded_revenues = [int(round(movie['revenue']/1000, 0)*1000) for movie in movies]\n",
    "rounded_revenues[:5]\n",
    "\n",
    "# [42094000, 543935000, 47434000, 54674000, 527069000]"
   ]
  },
  {
   "cell_type": "markdown",
   "metadata": {},
   "source": [
    "> Note that these operations do not change the original data, but rather return a new list of data.  Our revenues in the dictionary are unchanged."
   ]
  },
  {
   "cell_type": "code",
   "execution_count": 38,
   "metadata": {},
   "outputs": [
    {
     "data": {
      "text/plain": [
       "42093706"
      ]
     },
     "execution_count": 38,
     "metadata": {},
     "output_type": "execute_result"
    }
   ],
   "source": [
    "# original unrounded revenue is still there\n",
    "movies[0]['revenue']"
   ]
  },
  {
   "cell_type": "markdown",
   "metadata": {},
   "source": [
    "### Filtering with List Comprehensions"
   ]
  },
  {
   "cell_type": "markdown",
   "metadata": {},
   "source": [
    "Now another thing we can do with list comprehension is to add an if statement.  Let's see how we can do this.\n",
    "\n",
    "Below let's only select the movies from the year 2000."
   ]
  },
  {
   "cell_type": "code",
   "execution_count": 43,
   "metadata": {},
   "outputs": [
    {
     "data": {
      "text/plain": [
       "[{'title': 'X-Men',\n",
       "  'genre': 'Adventure',\n",
       "  'budget': 75000000,\n",
       "  'runtime': 104.0,\n",
       "  'year': 2000,\n",
       "  'month': 7,\n",
       "  'revenue': 296339527}]"
      ]
     },
     "execution_count": 43,
     "metadata": {},
     "output_type": "execute_result"
    }
   ],
   "source": [
    "movies_2000 = [movie for movie in movies if movie['year'] == 2000]\n",
    "\n",
    "movies_2000[:1]"
   ]
  },
  {
   "cell_type": "markdown",
   "metadata": {},
   "source": [
    "Let's see make sure that we understand the format."
   ]
  },
  {
   "cell_type": "code",
   "execution_count": 44,
   "metadata": {},
   "outputs": [],
   "source": [
    "#              return_val, loop         if condition \n",
    "movies_2000 = [movie for movie in movies if movie['year'] == 2000]"
   ]
  },
  {
   "cell_type": "markdown",
   "metadata": {},
   "source": [
    "Again, we can write this out, working on the easier components to the more difficult components."
   ]
  },
  {
   "cell_type": "code",
   "execution_count": 45,
   "metadata": {},
   "outputs": [],
   "source": [
    "# 1. For loop\n",
    "# movies_2000 = [ ...for movie in movies ...]\n",
    "\n",
    "# 2. if statement\n",
    "# movies_2000 = [movie for movie in movies if movie['year'] == 2000]\n",
    "\n",
    "# 3. update return value\n",
    "# movies_2000 = [movie['title'] for movie in movies if movie['year'] == 2000] "
   ]
  },
  {
   "cell_type": "markdown",
   "metadata": {},
   "source": [
    "Now it's your turn.  Write out a list comprehension that selects the movies that have a runtime less than 80 minutes."
   ]
  },
  {
   "cell_type": "code",
   "execution_count": 52,
   "metadata": {},
   "outputs": [
    {
     "data": {
      "text/plain": [
       "[{'title': 'Winnie the Pooh',\n",
       "  'genre': 'Animation',\n",
       "  'budget': 30000000,\n",
       "  'runtime': 63.0,\n",
       "  'year': 2011,\n",
       "  'month': 4,\n",
       "  'revenue': 14460000}]"
      ]
     },
     "execution_count": 52,
     "metadata": {},
     "output_type": "execute_result"
    }
   ],
   "source": [
    "short_movies = [movie for movie in movies if movie['runtime'] < 80]\n",
    "short_movies[:1]"
   ]
  },
  {
   "cell_type": "markdown",
   "metadata": {},
   "source": [
    "Finally, let's alter the return value as well.  This time, we'll just return the title of movies that are less than 80 minutes."
   ]
  },
  {
   "cell_type": "code",
   "execution_count": 55,
   "metadata": {},
   "outputs": [
    {
     "data": {
      "text/plain": [
       "['Winnie the Pooh', 'Fantasia 2000', 'The Thief and the Cobbler']"
      ]
     },
     "execution_count": 55,
     "metadata": {},
     "output_type": "execute_result"
    }
   ],
   "source": [
    "short_movie_titles = [movie['title'] for movie in movies if movie['runtime'] < 80]\n",
    "short_movie_titles[:3]"
   ]
  },
  {
   "cell_type": "markdown",
   "metadata": {},
   "source": [
    "> So as you can see, we just had to update the code in the very beginning of our list comprehension."
   ]
  },
  {
   "cell_type": "markdown",
   "metadata": {},
   "source": [
    "### A Challenge"
   ]
  },
  {
   "cell_type": "markdown",
   "metadata": {},
   "source": [
    "Now let's try to select the genre of all of our movies and make sure they are `title`ized."
   ]
  },
  {
   "cell_type": "code",
   "execution_count": 57,
   "metadata": {},
   "outputs": [
    {
     "data": {
      "text/plain": [
       "'Crime'"
      ]
     },
     "execution_count": 57,
     "metadata": {},
     "output_type": "execute_result"
    }
   ],
   "source": [
    "movies[0]['genre']"
   ]
  },
  {
   "cell_type": "markdown",
   "metadata": {},
   "source": [
    "> Uh oh."
   ]
  },
  {
   "cell_type": "code",
   "execution_count": 62,
   "metadata": {},
   "outputs": [
    {
     "ename": "AttributeError",
     "evalue": "'float' object has no attribute 'title'",
     "output_type": "error",
     "traceback": [
      "\u001b[0;31m---------------------------------------------------------------------------\u001b[0m",
      "\u001b[0;31mAttributeError\u001b[0m                            Traceback (most recent call last)",
      "Cell \u001b[0;32mIn[62], line 1\u001b[0m\n\u001b[0;32m----> 1\u001b[0m \u001b[43m[\u001b[49m\u001b[43mmovie\u001b[49m\u001b[43m[\u001b[49m\u001b[38;5;124;43m'\u001b[39;49m\u001b[38;5;124;43mgenre\u001b[39;49m\u001b[38;5;124;43m'\u001b[39;49m\u001b[43m]\u001b[49m\u001b[38;5;241;43m.\u001b[39;49m\u001b[43mtitle\u001b[49m\u001b[43m(\u001b[49m\u001b[43m)\u001b[49m\u001b[43m \u001b[49m\u001b[38;5;28;43;01mfor\u001b[39;49;00m\u001b[43m \u001b[49m\u001b[43mmovie\u001b[49m\u001b[43m \u001b[49m\u001b[38;5;129;43;01min\u001b[39;49;00m\u001b[43m \u001b[49m\u001b[43mmovies\u001b[49m\u001b[43m]\u001b[49m\n",
      "Cell \u001b[0;32mIn[62], line 1\u001b[0m, in \u001b[0;36m<listcomp>\u001b[0;34m(.0)\u001b[0m\n\u001b[0;32m----> 1\u001b[0m [\u001b[43mmovie\u001b[49m\u001b[43m[\u001b[49m\u001b[38;5;124;43m'\u001b[39;49m\u001b[38;5;124;43mgenre\u001b[39;49m\u001b[38;5;124;43m'\u001b[39;49m\u001b[43m]\u001b[49m\u001b[38;5;241;43m.\u001b[39;49m\u001b[43mtitle\u001b[49m() \u001b[38;5;28;01mfor\u001b[39;00m movie \u001b[38;5;129;01min\u001b[39;00m movies]\n",
      "\u001b[0;31mAttributeError\u001b[0m: 'float' object has no attribute 'title'"
     ]
    }
   ],
   "source": [
    "[movie['genre'].title() for movie in movies]"
   ]
  },
  {
   "cell_type": "markdown",
   "metadata": {},
   "source": [
    "Ok, so we see an error message -- saying the `float` object has no attribute capitalize.  The real problem is that apparently we are working with a float, where we thought we were working with a string.\n",
    "\n",
    "And this is likely because, somewhere in our list of dictionaries, genre is a float -- perhaps a `nan` (not a number)  value."
   ]
  },
  {
   "cell_type": "markdown",
   "metadata": {},
   "source": [
    "Ok, so we can work around this by adding an if condition to only call capitalize where the genre is of type string.  Try to do this with a list comprehension below."
   ]
  },
  {
   "cell_type": "code",
   "execution_count": 65,
   "metadata": {},
   "outputs": [
    {
     "data": {
      "text/plain": [
       "['Crime', 'Science Fiction', 'Comedy']"
      ]
     },
     "execution_count": 65,
     "metadata": {},
     "output_type": "execute_result"
    }
   ],
   "source": [
    "\n",
    "cap_movies = [movie['genre'].title() for movie in movies \\\n",
    "              if type(movie['genre']) == str ]\n",
    "cap_movies[:3]"
   ]
  },
  {
   "cell_type": "markdown",
   "metadata": {},
   "source": [
    "### Summary"
   ]
  },
  {
   "cell_type": "markdown",
   "metadata": {},
   "source": [
    "In this lesson, we saw how to use list comprehensions to coerce our data. "
   ]
  },
  {
   "cell_type": "code",
   "execution_count": 71,
   "metadata": {},
   "outputs": [
    {
     "data": {
      "text/plain": [
       "['Oliver Twist', 'X-Men: Apocalypse', 'Man on the Moon']"
      ]
     },
     "execution_count": 71,
     "metadata": {},
     "output_type": "execute_result"
    }
   ],
   "source": [
    "titles = [movie['title'] for movie in movies]\n",
    "titles[:3]"
   ]
  },
  {
   "cell_type": "markdown",
   "metadata": {},
   "source": [
    "For example, above we start with a list of dictionaries, and then use a list of dictionaries to coerce our data to a string. "
   ]
  },
  {
   "cell_type": "markdown",
   "metadata": {},
   "source": [
    "We then saw how we can add an if statement to filter from our list. "
   ]
  },
  {
   "cell_type": "code",
   "execution_count": 73,
   "metadata": {},
   "outputs": [
    {
     "data": {
      "text/plain": [
       "['Winnie the Pooh', 'Fantasia 2000', 'The Thief and the Cobbler']"
      ]
     },
     "execution_count": 73,
     "metadata": {},
     "output_type": "execute_result"
    }
   ],
   "source": [
    "# \\ used to split statement into multiple lines\n",
    "short_movie_titles = [movie['title'] for movie in movies \\\n",
    "                      if movie['runtime'] < 80]\n",
    "short_movie_titles[:3]"
   ]
  }
 ],
 "metadata": {
  "colab": {
   "provenance": []
  },
  "kernelspec": {
   "display_name": "Python 3 (ipykernel)",
   "language": "python",
   "name": "python3"
  },
  "language_info": {
   "codemirror_mode": {
    "name": "ipython",
    "version": 3
   },
   "file_extension": ".py",
   "mimetype": "text/x-python",
   "name": "python",
   "nbconvert_exporter": "python",
   "pygments_lexer": "ipython3",
   "version": "3.9.12"
  }
 },
 "nbformat": 4,
 "nbformat_minor": 4
}
